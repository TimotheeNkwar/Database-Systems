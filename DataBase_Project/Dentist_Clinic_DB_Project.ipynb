{
 "cells": [
  {
   "cell_type": "markdown",
   "id": "19bd88d0",
   "metadata": {},
   "source": [
    "<center>\n",
    "    <h1>CYPRUS INTERNATIONAL UNIVERSITY</h1>\n",
    "    <h2><b>School of Applied Science</b></h2>\n",
    "    <h3>Department of <span style=\"color:black;\">Data Science</span></h3>\n",
    "    <br>\n",
    "    <img src=\"https://moodle.ciu.edu.tr/pluginfile.php/1/core_admin/logocompact/300x300/1728932360/ciulogo.png\" width=\"150\",height=\"150\">\n",
    "    <br><br>\n",
    "    <h3><b>Name & Surname :</b></h3><span style=\"color:blue;\"> TIMOTHEE KABONGO NKWAR</span></h3>\n",
    "    <h3><b>INSTRUCTOR :</b> <span style=\"color:blue;\">Dr. Yasemin Bay</span></h3>\n",
    "    <h3><b>COURSE NAME :</b> <span style=\"color:blue;\">DATABASE MANAGEMENT SYSTEMS AND PROGRAMMING I</span></h3>\n",
    "    <br>\n",
    "    <h3><b>Student ID:</b><span style=\"color:blue;\">22205731</span> <span style=\"color:red;\"></span></h3>\n",
    "</center>"
   ]
  },
  {
   "cell_type": "markdown",
   "id": "f88da6d9",
   "metadata": {},
   "source": [
    "<h1 align=\"center\">🦷 Dentist Clinic Database Design</h1>"
   ]
  },
  {
   "cell_type": "markdown",
   "id": "70b1561c",
   "metadata": {},
   "source": [
    "\n",
    "\n",
    "The **Dentist Clinic Database** is designed to efficiently manage and analyze information related to employees, patients, treatments, appointments, medicines, operations, and payments.\n",
    "\n",
    "## 🎯 Objectives\n",
    "\n",
    "- Efficient **storage**, **manipulation**, and **retrieval** of clinical data\n",
    "- Support **clinical operations** and **management decision-making**\n",
    "- Enable **statistical queries** for insights\n",
    "- Ensure **data integrity** and **scalability** via **3NF normalization**\n",
    "\n",
    "---\n",
    "\n",
    "\n",
    "## 📊 Analytical Features\n",
    "\n",
    "Supports **data analysis** for management insights:\n",
    "\n",
    "- Identify **high-performing doctors** (e.g., based on number of treatments or patient satisfaction)\n",
    "- Track **popular medicines** (by prescription count)\n",
    "- Analyze **payment trends** (methods, frequency, outstanding payments)\n",
    "\n",
    "---\n",
    "\n",
    "## ✅ Normalization\n",
    "\n",
    "- Fully normalized to **Third Normal Form (3NF)**:\n",
    "  - Eliminates data redundancy\n",
    "  - Ensures referential integrity\n",
    "  - Supports scalability and efficient updates\n",
    "\n",
    "---\n",
    "\n",
    "## 🔗 Relationships Overview\n",
    "\n",
    "- One-to-many between:\n",
    "  - `Staff` ↔ `Appointments`\n",
    "  - `Patients` ↔ `Appointments`\n",
    "  - `Appointments` ↔ `Treatments`\n",
    "  - `Treatments` ↔ `Prescriptions` / `Operations`\n",
    "  - `Patients` ↔ `Payments`\n",
    "\n",
    "---\n",
    "\n",
    "**This design forms a robust backbone for a scalable and insightful clinical data system.**\n"
   ]
  },
  {
   "cell_type": "markdown",
   "id": "53c9af3b",
   "metadata": {},
   "source": [
    "### Why Use SQLite3 for the Dental Clinic Database?\n",
    "\n",
    "SQLite3 is ideal for the dental clinic’s 3NF-normalized database due to:\n",
    "\n",
    "- **Simplicity**: Serverless, single-file database with minimal setup, perfect for small clinics.\n",
    "- **Efficiency**: Handles moderate data (e.g., `Patient`, `Appointment`) and supports foreign keys for relationships (e.g., `DentistID` in `Appointment`).\n",
    "- **Reliability**: ACID-compliant, ensuring data integrity for critical records like `Payment` or `Prescription`.\n",
    "- **Cost-Effective**: Free and low-resource, reducing costs for hardware and licensing.\n",
    "- **Portability**: Cross-platform, embedded, and easy to back up or transfer.\n",
    "- **Scalability**: Suitable for small to medium workloads, with the 3NF design optimizing performance."
   ]
  },
  {
   "cell_type": "markdown",
   "id": "6db5e2e3",
   "metadata": {},
   "source": [
    "### CONNEXION TO THE DATABASE"
   ]
  },
  {
   "cell_type": "code",
   "execution_count": 1,
   "id": "0c363157",
   "metadata": {},
   "outputs": [
    {
     "name": "stdout",
     "output_type": "stream",
     "text": [
      "Staff\n",
      "sqlite_sequence\n",
      "Dentist\n",
      "Patient\n",
      "Appointment\n",
      "Treatment\n",
      "Medicine\n",
      "Prescription\n",
      "Payment\n"
     ]
    }
   ],
   "source": [
    "import pandas as pd # import the pandas library\n",
    "import sqlite3 # import the sqlite3 module\n",
    "conn = sqlite3.connect(\"Dentist_Clinic_DataBase.db\") # create a connection to the database\n",
    "cursor = conn.cursor() # create a cursor object to execute SQL commands\n",
    "cursor.execute(\"SELECT name FROM sqlite_master WHERE type='table';\")\n",
    "tables = cursor.fetchall()\n",
    "# show the names of the tables in the database\n",
    "for table in tables:\n",
    "    print(table[0])"
   ]
  },
  {
   "cell_type": "markdown",
   "id": "eec2e1e6",
   "metadata": {},
   "source": [
    "## 2. ER DIAGRAM"
   ]
  },
  {
   "cell_type": "markdown",
   "id": "d28fb767",
   "metadata": {},
   "source": [
    "<div>\n",
    "<img src=\"https://github.com/TimotheeNkwar/Database-Systems/blob/main/DataBase_Project/Dentist%20ERD.jpg\",width=300>\n",
    "</div>"
   ]
  },
  {
   "cell_type": "markdown",
   "id": "8dd2d1a5",
   "metadata": {},
   "source": [
    "## 3. RELATIOSHIPS"
   ]
  },
  {
   "cell_type": "markdown",
   "id": "06af92df",
   "metadata": {},
   "source": [
    "- **Staff-Dentist**: One-to-One (Dentist is a specialized Staff).\n",
    "- **Dentist-Appointment**: One-to-Many (A dentist can have many appointments, but an appointment is handled by one dentist).\n",
    "- **Patient-Appointment**: One-to-Many (A patient can have multiple appointments, but each appointment is for one patient).\n",
    "- **Appointment-Treatment**: One-to-Many (An appointment can have multiple treatments).\n",
    "- **Treatment-Prescription**: One-to-Many (A treatment can include multiple prescriptions).\n",
    "- **Medicine-Prescription**: Many-to-Many (A prescription can include multiple medicines, resolved via the Prescription table).\n",
    "- **Treatment-Payment**: One-to-One (Each treatment has one payment).\n",
    "- **Patient-Payment**: One-to-Many (A patient can have multiple payments)."
   ]
  },
  {
   "cell_type": "markdown",
   "id": "7a8d8777",
   "metadata": {},
   "source": [
    "## 4. RELATIONAL MODEL"
   ]
  },
  {
   "cell_type": "markdown",
   "id": "54756da7",
   "metadata": {},
   "source": [
    "### A. Staff\n",
    "| Attribute   | Description                     |\n",
    "|-------------|---------------------------------|\n",
    "| StaffID     | Primary Key, unique identifier  |\n",
    "| FirstName   | Staff's first name              |\n",
    "| LastName    | Staff's last name               |\n",
    "| Role        | Staff's role (e.g., admin, dentist) |\n",
    "| Phone       | Contact phone number            |\n",
    "| Email       | Email address                   |\n",
    "| HireDate    | Date of hiring                  |\n",
    "\n",
    "### B. Dentist\n",
    "| Attribute   | Description                     |\n",
    "|-------------|---------------------------------|\n",
    "| DentistID   | Primary Key, unique identifier  |\n",
    "| Specialty   | Dentist's area of expertise     |\n",
    "- **Foreign Key**: `DentistID` references `Staff(StaffID)`\n",
    "\n",
    "### C. Patient\n",
    "| Attribute   | Description                     |\n",
    "|-------------|---------------------------------|\n",
    "| PatientID   | Primary Key, unique identifier  |\n",
    "| FirstName   | Patient's first name            |\n",
    "| LastName    | Patient's last name             |\n",
    "| DOB         | Date of birth                   |\n",
    "| Gender      | Patient's gender                |\n",
    "| Phone       | Contact phone number            |\n",
    "| Email       | Email address                   |\n",
    "| Address     | Residential address             |\n",
    "\n",
    "### D. Appointment\n",
    "| Attribute        | Description                     |\n",
    "|------------------|---------------------------------|\n",
    "| AppointmentID    | Primary Key, unique identifier  |\n",
    "| PatientID        | ID of the patient               |\n",
    "| DentistID        | ID of the dentist               |\n",
    "| AppointmentDate  | Date of the appointment         |\n",
    "| AppointmentTime  | Time of the appointment         |\n",
    "| Status           | Appointment status (e.g., scheduled, completed) |\n",
    "- **Foreign Keys**:\n",
    "  - `PatientID` references `Patient(PatientID)`\n",
    "  - `DentistID` references `Dentist(DentistID)`\n",
    "\n",
    "### E. Treatment\n",
    "| Attribute      | Description                     |\n",
    "|----------------|---------------------------------|\n",
    "| TreatmentID    | Primary Key, unique identifier  |\n",
    "| AppointmentID  | ID of the appointment           |\n",
    "| TreatmentType  | Type of treatment (e.g., cleaning, filling) |\n",
    "| Description    | Details of the treatment        |\n",
    "| Cost           | Cost of the treatment           |\n",
    "- **Foreign Key**: `AppointmentID` references `Appointment(AppointmentID)`\n",
    "\n",
    "### F. Medicine\n",
    "| Attribute      | Description                     |\n",
    "|----------------|---------------------------------|\n",
    "| MedicineID     | Primary Key, unique identifier  |\n",
    "| Name           | Name of the medicine            |\n",
    "| Description    | Details of the medicine         |\n",
    "| StockQuantity  | Available quantity in stock     |\n",
    "\n",
    "### G. Prescription\n",
    "| Attribute     | Description                     |\n",
    "|---------------|---------------------------------|\n",
    "| PrescriptionID| Primary Key, unique identifier  |\n",
    "| TreatmentID   | ID of the treatment             |\n",
    "| MedicineID    | ID of the medicine              |\n",
    "| Dosage        | Dosage instructions             |\n",
    "| Duration      | Duration of the prescription    |\n",
    "- **Foreign Keys**:\n",
    "  - `TreatmentID` references `Treatment(TreatmentID)`\n",
    "  - `MedicineID` references `Medicine(MedicineID)`\n",
    "\n",
    "\n",
    "### H. Payment\n",
    "| Attribute     | Description                     |\n",
    "|---------------|---------------------------------|\n",
    "| PaymentID     | Primary Key, unique identifier  |\n",
    "| TreatmentID   | ID of the treatment             |\n",
    "| PatientID     | ID of the patient               |\n",
    "| Amount        | Payment amount                  |\n",
    "| PaymentDate   | Date of the payment             |\n",
    "- **Foreign Keys**:\n",
    "  - `TreatmentID` references `Treatment(TreatmentID)`\n",
    "  - `PatientID` references `Patient(PatientID)`\n",
    "\n",
    "---"
   ]
  },
  {
   "cell_type": "markdown",
   "id": "e63c4ecf",
   "metadata": {},
   "source": [
    "# 🧠 Database Normalization: Dentist Clinic Database\n",
    "\n",
    "The database is normalized to the **Third Normal Form (3NF)** to eliminate redundancy and ensure data integrity.\n",
    "\n",
    "---\n",
    "\n",
    "## 🔹 First Normal Form (1NF)\n",
    "\n",
    "**Goals:**\n",
    "- Ensure all attributes are **atomic**.\n",
    "- Eliminate **repeating groups** or arrays.\n",
    "- Each table has a **primary key**.\n",
    "\n",
    "**Examples:**\n",
    "- **Staff table**:  \n",
    "  `StaffID`, `FirstName`, `LastName`, `Role`, `Phone`, `Email`, `HireDate`\n",
    "- **Patient table**:  \n",
    "  `PatientID`, `FirstName`, `LastName`, `DOB`, `Gender`, `Phone`, `Email`, `Address`\n",
    "\n",
    "**Characteristics:**\n",
    "- `FirstName` and `LastName` are stored separately (atomic values).\n",
    "- No multi-valued fields (e.g., phone numbers are stored in separate rows if multiple exist).\n",
    "\n",
    "---\n",
    "\n",
    "## 🔹 Second Normal Form (2NF)\n",
    "\n",
    "**Goals:**\n",
    "- Fulfill **1NF**.\n",
    "- Eliminate **partial dependencies** — all non-key attributes must depend on the **entire** primary key.\n",
    "\n",
    "**Example:**\n",
    "- **Appointment table**:  \n",
    "  `AppointmentID`, `PatientID`, `DentistID`, `AppointmentDate`, `AppointmentTime`  \n",
    "  → `AppointmentDate` and `AppointmentTime` depend on `AppointmentID` (not just `PatientID` or `DentistID`).\n",
    "\n",
    "**Additional Notes:**\n",
    "- Tables with **single-column primary keys** (like `TreatmentID` in the Treatment table) automatically satisfy 2NF, since no partial dependency is possible.\n",
    "\n",
    "---\n",
    "\n",
    "## 🔹 Third Normal Form (3NF)\n",
    "\n",
    "**Goals:**\n",
    "- Fulfill **2NF**.\n",
    "- Eliminate **transitive dependencies** — non-key attributes must not depend on other non-key attributes.\n",
    "\n",
    "**Examples:**\n",
    "- In the **Patient table**, `Address` depends **only** on `PatientID`, not on `Phone` or `Email`.\n",
    "- In the **Dentist table**, `Specialty` depends **only** on `DentistID`, not on `FirstName` or `HireDate`.\n",
    "\n",
    "---\n",
    "\n",
    "✅ **Conclusion**:  \n",
    "This normalization ensures a clean, consistent, and scalable database structure, free from redundancy and update anomalies.\n"
   ]
  },
  {
   "cell_type": "markdown",
   "id": "ebd0c120",
   "metadata": {},
   "source": [
    "# ALL THE TABLE"
   ]
  },
  {
   "cell_type": "markdown",
   "id": "3583148d",
   "metadata": {},
   "source": [
    "### STAFF TABLE"
   ]
  },
  {
   "cell_type": "code",
   "execution_count": 2,
   "id": "aefa6fed",
   "metadata": {},
   "outputs": [
    {
     "data": {
      "application/vnd.microsoft.datawrangler.viewer.v0+json": {
       "columns": [
        {
         "name": "index",
         "rawType": "int64",
         "type": "integer"
        },
        {
         "name": "StaffID",
         "rawType": "int64",
         "type": "integer"
        },
        {
         "name": "FirstName",
         "rawType": "object",
         "type": "string"
        },
        {
         "name": "LastName",
         "rawType": "object",
         "type": "string"
        },
        {
         "name": "Role",
         "rawType": "object",
         "type": "string"
        },
        {
         "name": "Phone",
         "rawType": "object",
         "type": "string"
        },
        {
         "name": "Email",
         "rawType": "object",
         "type": "string"
        },
        {
         "name": "HireDate",
         "rawType": "object",
         "type": "string"
        }
       ],
       "conversionMethod": "pd.DataFrame",
       "ref": "ddeb2ef8-f525-446a-9680-8a0f404b68b2",
       "rows": [
        [
         "0",
         "1",
         "Tom",
         "Green",
         "Dentist",
         "555-6724",
         "john.smith@clinic.com",
         "2024-06-24"
        ],
        [
         "1",
         "2",
         "Sarah",
         "Scott",
         "Dentist",
         "555-4664",
         "mary.johnson@clinic.com",
         "2018-08-15"
        ],
        [
         "2",
         "3",
         "Karen",
         "Johnson",
         "Dentist",
         "555-8206",
         "alice.brown@clinic.com",
         "2021-09-09"
        ],
        [
         "3",
         "4",
         "Mary",
         "Wilson",
         "Dentist",
         "555-6112",
         "bob.taylor@clinic.com",
         "2022-05-06"
        ],
        [
         "4",
         "5",
         "Emily",
         "Wilson",
         "Dentist",
         "555-1404",
         "emma.wilson@clinic.com",
         "2024-12-14"
        ],
        [
         "5",
         "6",
         "Alice",
         "Allen",
         "Dentist",
         "555-3159",
         "james.davis@clinic.com",
         "2021-02-23"
        ],
        [
         "6",
         "7",
         "Michael",
         "Lewis",
         "Dentist",
         "555-1355",
         "sarah.clark@clinic.com",
         "2018-02-17"
        ],
        [
         "7",
         "8",
         "Lisa",
         "Clark",
         "Dentist",
         "555-4223",
         "david.lewis@clinic.com",
         "2018-02-13"
        ],
        [
         "8",
         "9",
         "Steven",
         "Davis",
         "Dentist",
         "555-8800",
         "lisa.walker@clinic.com",
         "2021-05-19"
        ],
        [
         "9",
         "10",
         "Emily",
         "Baker",
         "Dentist",
         "555-5749",
         "michael.hall@clinic.com",
         "2016-03-22"
        ]
       ],
       "shape": {
        "columns": 7,
        "rows": 10
       }
      },
      "text/html": [
       "<div>\n",
       "<style scoped>\n",
       "    .dataframe tbody tr th:only-of-type {\n",
       "        vertical-align: middle;\n",
       "    }\n",
       "\n",
       "    .dataframe tbody tr th {\n",
       "        vertical-align: top;\n",
       "    }\n",
       "\n",
       "    .dataframe thead th {\n",
       "        text-align: right;\n",
       "    }\n",
       "</style>\n",
       "<table border=\"1\" class=\"dataframe\">\n",
       "  <thead>\n",
       "    <tr style=\"text-align: right;\">\n",
       "      <th></th>\n",
       "      <th>StaffID</th>\n",
       "      <th>FirstName</th>\n",
       "      <th>LastName</th>\n",
       "      <th>Role</th>\n",
       "      <th>Phone</th>\n",
       "      <th>Email</th>\n",
       "      <th>HireDate</th>\n",
       "    </tr>\n",
       "  </thead>\n",
       "  <tbody>\n",
       "    <tr>\n",
       "      <th>0</th>\n",
       "      <td>1</td>\n",
       "      <td>Tom</td>\n",
       "      <td>Green</td>\n",
       "      <td>Dentist</td>\n",
       "      <td>555-6724</td>\n",
       "      <td>john.smith@clinic.com</td>\n",
       "      <td>2024-06-24</td>\n",
       "    </tr>\n",
       "    <tr>\n",
       "      <th>1</th>\n",
       "      <td>2</td>\n",
       "      <td>Sarah</td>\n",
       "      <td>Scott</td>\n",
       "      <td>Dentist</td>\n",
       "      <td>555-4664</td>\n",
       "      <td>mary.johnson@clinic.com</td>\n",
       "      <td>2018-08-15</td>\n",
       "    </tr>\n",
       "    <tr>\n",
       "      <th>2</th>\n",
       "      <td>3</td>\n",
       "      <td>Karen</td>\n",
       "      <td>Johnson</td>\n",
       "      <td>Dentist</td>\n",
       "      <td>555-8206</td>\n",
       "      <td>alice.brown@clinic.com</td>\n",
       "      <td>2021-09-09</td>\n",
       "    </tr>\n",
       "    <tr>\n",
       "      <th>3</th>\n",
       "      <td>4</td>\n",
       "      <td>Mary</td>\n",
       "      <td>Wilson</td>\n",
       "      <td>Dentist</td>\n",
       "      <td>555-6112</td>\n",
       "      <td>bob.taylor@clinic.com</td>\n",
       "      <td>2022-05-06</td>\n",
       "    </tr>\n",
       "    <tr>\n",
       "      <th>4</th>\n",
       "      <td>5</td>\n",
       "      <td>Emily</td>\n",
       "      <td>Wilson</td>\n",
       "      <td>Dentist</td>\n",
       "      <td>555-1404</td>\n",
       "      <td>emma.wilson@clinic.com</td>\n",
       "      <td>2024-12-14</td>\n",
       "    </tr>\n",
       "    <tr>\n",
       "      <th>5</th>\n",
       "      <td>6</td>\n",
       "      <td>Alice</td>\n",
       "      <td>Allen</td>\n",
       "      <td>Dentist</td>\n",
       "      <td>555-3159</td>\n",
       "      <td>james.davis@clinic.com</td>\n",
       "      <td>2021-02-23</td>\n",
       "    </tr>\n",
       "    <tr>\n",
       "      <th>6</th>\n",
       "      <td>7</td>\n",
       "      <td>Michael</td>\n",
       "      <td>Lewis</td>\n",
       "      <td>Dentist</td>\n",
       "      <td>555-1355</td>\n",
       "      <td>sarah.clark@clinic.com</td>\n",
       "      <td>2018-02-17</td>\n",
       "    </tr>\n",
       "    <tr>\n",
       "      <th>7</th>\n",
       "      <td>8</td>\n",
       "      <td>Lisa</td>\n",
       "      <td>Clark</td>\n",
       "      <td>Dentist</td>\n",
       "      <td>555-4223</td>\n",
       "      <td>david.lewis@clinic.com</td>\n",
       "      <td>2018-02-13</td>\n",
       "    </tr>\n",
       "    <tr>\n",
       "      <th>8</th>\n",
       "      <td>9</td>\n",
       "      <td>Steven</td>\n",
       "      <td>Davis</td>\n",
       "      <td>Dentist</td>\n",
       "      <td>555-8800</td>\n",
       "      <td>lisa.walker@clinic.com</td>\n",
       "      <td>2021-05-19</td>\n",
       "    </tr>\n",
       "    <tr>\n",
       "      <th>9</th>\n",
       "      <td>10</td>\n",
       "      <td>Emily</td>\n",
       "      <td>Baker</td>\n",
       "      <td>Dentist</td>\n",
       "      <td>555-5749</td>\n",
       "      <td>michael.hall@clinic.com</td>\n",
       "      <td>2016-03-22</td>\n",
       "    </tr>\n",
       "  </tbody>\n",
       "</table>\n",
       "</div>"
      ],
      "text/plain": [
       "   StaffID FirstName LastName     Role     Phone                    Email  \\\n",
       "0        1       Tom    Green  Dentist  555-6724    john.smith@clinic.com   \n",
       "1        2     Sarah    Scott  Dentist  555-4664  mary.johnson@clinic.com   \n",
       "2        3     Karen  Johnson  Dentist  555-8206   alice.brown@clinic.com   \n",
       "3        4      Mary   Wilson  Dentist  555-6112    bob.taylor@clinic.com   \n",
       "4        5     Emily   Wilson  Dentist  555-1404   emma.wilson@clinic.com   \n",
       "5        6     Alice    Allen  Dentist  555-3159   james.davis@clinic.com   \n",
       "6        7   Michael    Lewis  Dentist  555-1355   sarah.clark@clinic.com   \n",
       "7        8      Lisa    Clark  Dentist  555-4223   david.lewis@clinic.com   \n",
       "8        9    Steven    Davis  Dentist  555-8800   lisa.walker@clinic.com   \n",
       "9       10     Emily    Baker  Dentist  555-5749  michael.hall@clinic.com   \n",
       "\n",
       "     HireDate  \n",
       "0  2024-06-24  \n",
       "1  2018-08-15  \n",
       "2  2021-09-09  \n",
       "3  2022-05-06  \n",
       "4  2024-12-14  \n",
       "5  2021-02-23  \n",
       "6  2018-02-17  \n",
       "7  2018-02-13  \n",
       "8  2021-05-19  \n",
       "9  2016-03-22  "
      ]
     },
     "execution_count": 2,
     "metadata": {},
     "output_type": "execute_result"
    }
   ],
   "source": [
    "query =\"SELECT * FROM staff\" # SQL query to select all data from the staff table\n",
    "staff_data = pd.read_sql_query(query, conn) # read the data into a pandas DataFrame\n",
    "staff_data.head(10) #show the first 10 rows of the DataFrame"
   ]
  },
  {
   "cell_type": "markdown",
   "id": "710f0266",
   "metadata": {},
   "source": [
    "### APPOINTMENT TABLE"
   ]
  },
  {
   "cell_type": "code",
   "execution_count": 3,
   "id": "84db77b5",
   "metadata": {},
   "outputs": [
    {
     "data": {
      "application/vnd.microsoft.datawrangler.viewer.v0+json": {
       "columns": [
        {
         "name": "index",
         "rawType": "int64",
         "type": "integer"
        },
        {
         "name": "AppointmentID",
         "rawType": "int64",
         "type": "integer"
        },
        {
         "name": "PatientID",
         "rawType": "int64",
         "type": "integer"
        },
        {
         "name": "DentistID",
         "rawType": "int64",
         "type": "integer"
        },
        {
         "name": "AppointmentDate",
         "rawType": "object",
         "type": "string"
        },
        {
         "name": "AppointmentTime",
         "rawType": "object",
         "type": "string"
        },
        {
         "name": "Status",
         "rawType": "object",
         "type": "string"
        }
       ],
       "conversionMethod": "pd.DataFrame",
       "ref": "0df627a3-b19a-4530-b794-7b52a11d2c85",
       "rows": [
        [
         "0",
         "1",
         "19",
         "7",
         "2024-01-17",
         "13:15:00",
         "Scheduled"
        ],
        [
         "1",
         "2",
         "42",
         "8",
         "2024-12-17",
         "11:30:00",
         "Scheduled"
        ],
        [
         "2",
         "3",
         "15",
         "17",
         "2024-12-21",
         "17:30:00",
         "Cancelled"
        ],
        [
         "3",
         "4",
         "25",
         "2",
         "2025-02-18",
         "10:45:00",
         "Scheduled"
        ],
        [
         "4",
         "5",
         "25",
         "1",
         "2024-06-17",
         "14:15:00",
         "Scheduled"
        ],
        [
         "5",
         "6",
         "50",
         "26",
         "2024-12-02",
         "10:00:00",
         "Cancelled"
        ],
        [
         "6",
         "7",
         "3",
         "27",
         "2024-10-09",
         "16:30:00",
         "Scheduled"
        ],
        [
         "7",
         "8",
         "41",
         "10",
         "2024-08-18",
         "11:15:00",
         "Cancelled"
        ],
        [
         "8",
         "9",
         "40",
         "11",
         "2025-10-07",
         "13:00:00",
         "Completed"
        ],
        [
         "9",
         "10",
         "23",
         "17",
         "2025-02-14",
         "13:45:00",
         "Cancelled"
        ]
       ],
       "shape": {
        "columns": 6,
        "rows": 10
       }
      },
      "text/html": [
       "<div>\n",
       "<style scoped>\n",
       "    .dataframe tbody tr th:only-of-type {\n",
       "        vertical-align: middle;\n",
       "    }\n",
       "\n",
       "    .dataframe tbody tr th {\n",
       "        vertical-align: top;\n",
       "    }\n",
       "\n",
       "    .dataframe thead th {\n",
       "        text-align: right;\n",
       "    }\n",
       "</style>\n",
       "<table border=\"1\" class=\"dataframe\">\n",
       "  <thead>\n",
       "    <tr style=\"text-align: right;\">\n",
       "      <th></th>\n",
       "      <th>AppointmentID</th>\n",
       "      <th>PatientID</th>\n",
       "      <th>DentistID</th>\n",
       "      <th>AppointmentDate</th>\n",
       "      <th>AppointmentTime</th>\n",
       "      <th>Status</th>\n",
       "    </tr>\n",
       "  </thead>\n",
       "  <tbody>\n",
       "    <tr>\n",
       "      <th>0</th>\n",
       "      <td>1</td>\n",
       "      <td>19</td>\n",
       "      <td>7</td>\n",
       "      <td>2024-01-17</td>\n",
       "      <td>13:15:00</td>\n",
       "      <td>Scheduled</td>\n",
       "    </tr>\n",
       "    <tr>\n",
       "      <th>1</th>\n",
       "      <td>2</td>\n",
       "      <td>42</td>\n",
       "      <td>8</td>\n",
       "      <td>2024-12-17</td>\n",
       "      <td>11:30:00</td>\n",
       "      <td>Scheduled</td>\n",
       "    </tr>\n",
       "    <tr>\n",
       "      <th>2</th>\n",
       "      <td>3</td>\n",
       "      <td>15</td>\n",
       "      <td>17</td>\n",
       "      <td>2024-12-21</td>\n",
       "      <td>17:30:00</td>\n",
       "      <td>Cancelled</td>\n",
       "    </tr>\n",
       "    <tr>\n",
       "      <th>3</th>\n",
       "      <td>4</td>\n",
       "      <td>25</td>\n",
       "      <td>2</td>\n",
       "      <td>2025-02-18</td>\n",
       "      <td>10:45:00</td>\n",
       "      <td>Scheduled</td>\n",
       "    </tr>\n",
       "    <tr>\n",
       "      <th>4</th>\n",
       "      <td>5</td>\n",
       "      <td>25</td>\n",
       "      <td>1</td>\n",
       "      <td>2024-06-17</td>\n",
       "      <td>14:15:00</td>\n",
       "      <td>Scheduled</td>\n",
       "    </tr>\n",
       "    <tr>\n",
       "      <th>5</th>\n",
       "      <td>6</td>\n",
       "      <td>50</td>\n",
       "      <td>26</td>\n",
       "      <td>2024-12-02</td>\n",
       "      <td>10:00:00</td>\n",
       "      <td>Cancelled</td>\n",
       "    </tr>\n",
       "    <tr>\n",
       "      <th>6</th>\n",
       "      <td>7</td>\n",
       "      <td>3</td>\n",
       "      <td>27</td>\n",
       "      <td>2024-10-09</td>\n",
       "      <td>16:30:00</td>\n",
       "      <td>Scheduled</td>\n",
       "    </tr>\n",
       "    <tr>\n",
       "      <th>7</th>\n",
       "      <td>8</td>\n",
       "      <td>41</td>\n",
       "      <td>10</td>\n",
       "      <td>2024-08-18</td>\n",
       "      <td>11:15:00</td>\n",
       "      <td>Cancelled</td>\n",
       "    </tr>\n",
       "    <tr>\n",
       "      <th>8</th>\n",
       "      <td>9</td>\n",
       "      <td>40</td>\n",
       "      <td>11</td>\n",
       "      <td>2025-10-07</td>\n",
       "      <td>13:00:00</td>\n",
       "      <td>Completed</td>\n",
       "    </tr>\n",
       "    <tr>\n",
       "      <th>9</th>\n",
       "      <td>10</td>\n",
       "      <td>23</td>\n",
       "      <td>17</td>\n",
       "      <td>2025-02-14</td>\n",
       "      <td>13:45:00</td>\n",
       "      <td>Cancelled</td>\n",
       "    </tr>\n",
       "  </tbody>\n",
       "</table>\n",
       "</div>"
      ],
      "text/plain": [
       "   AppointmentID  PatientID  DentistID AppointmentDate AppointmentTime  \\\n",
       "0              1         19          7      2024-01-17        13:15:00   \n",
       "1              2         42          8      2024-12-17        11:30:00   \n",
       "2              3         15         17      2024-12-21        17:30:00   \n",
       "3              4         25          2      2025-02-18        10:45:00   \n",
       "4              5         25          1      2024-06-17        14:15:00   \n",
       "5              6         50         26      2024-12-02        10:00:00   \n",
       "6              7          3         27      2024-10-09        16:30:00   \n",
       "7              8         41         10      2024-08-18        11:15:00   \n",
       "8              9         40         11      2025-10-07        13:00:00   \n",
       "9             10         23         17      2025-02-14        13:45:00   \n",
       "\n",
       "      Status  \n",
       "0  Scheduled  \n",
       "1  Scheduled  \n",
       "2  Cancelled  \n",
       "3  Scheduled  \n",
       "4  Scheduled  \n",
       "5  Cancelled  \n",
       "6  Scheduled  \n",
       "7  Cancelled  \n",
       "8  Completed  \n",
       "9  Cancelled  "
      ]
     },
     "execution_count": 3,
     "metadata": {},
     "output_type": "execute_result"
    }
   ],
   "source": [
    "query = \"SELECT * FROM appointment\" # SQL query to select all data from the staff table\n",
    "appointment_data = pd.read_sql_query(query, conn) # read the data into a pandas DataFrame\n",
    "appointment_data.head(10) # show the first 10 rows of the DataFrame"
   ]
  },
  {
   "cell_type": "code",
   "execution_count": 4,
   "id": "c575d3c5",
   "metadata": {},
   "outputs": [
    {
     "data": {
      "application/vnd.microsoft.datawrangler.viewer.v0+json": {
       "columns": [
        {
         "name": "index",
         "rawType": "int64",
         "type": "integer"
        },
        {
         "name": "AppointmentID",
         "rawType": "int64",
         "type": "integer"
        },
        {
         "name": "PatientID",
         "rawType": "int64",
         "type": "integer"
        },
        {
         "name": "DentistID",
         "rawType": "int64",
         "type": "integer"
        },
        {
         "name": "AppointmentDate",
         "rawType": "object",
         "type": "string"
        },
        {
         "name": "AppointmentTime",
         "rawType": "object",
         "type": "string"
        },
        {
         "name": "Status",
         "rawType": "object",
         "type": "string"
        }
       ],
       "conversionMethod": "pd.DataFrame",
       "ref": "3591817d-f92a-4f6b-9d1d-8df22058cedb",
       "rows": [
        [
         "0",
         "1",
         "19",
         "7",
         "2024-01-17",
         "13:15:00",
         "Scheduled"
        ],
        [
         "1",
         "2",
         "42",
         "8",
         "2024-12-17",
         "11:30:00",
         "Scheduled"
        ],
        [
         "2",
         "3",
         "15",
         "17",
         "2024-12-21",
         "17:30:00",
         "Cancelled"
        ],
        [
         "3",
         "4",
         "25",
         "2",
         "2025-02-18",
         "10:45:00",
         "Scheduled"
        ],
        [
         "4",
         "5",
         "25",
         "1",
         "2024-06-17",
         "14:15:00",
         "Scheduled"
        ],
        [
         "5",
         "6",
         "50",
         "26",
         "2024-12-02",
         "10:00:00",
         "Cancelled"
        ],
        [
         "6",
         "7",
         "3",
         "27",
         "2024-10-09",
         "16:30:00",
         "Scheduled"
        ],
        [
         "7",
         "8",
         "41",
         "10",
         "2024-08-18",
         "11:15:00",
         "Cancelled"
        ],
        [
         "8",
         "9",
         "40",
         "11",
         "2025-10-07",
         "13:00:00",
         "Completed"
        ],
        [
         "9",
         "10",
         "23",
         "17",
         "2025-02-14",
         "13:45:00",
         "Cancelled"
        ]
       ],
       "shape": {
        "columns": 6,
        "rows": 10
       }
      },
      "text/html": [
       "<div>\n",
       "<style scoped>\n",
       "    .dataframe tbody tr th:only-of-type {\n",
       "        vertical-align: middle;\n",
       "    }\n",
       "\n",
       "    .dataframe tbody tr th {\n",
       "        vertical-align: top;\n",
       "    }\n",
       "\n",
       "    .dataframe thead th {\n",
       "        text-align: right;\n",
       "    }\n",
       "</style>\n",
       "<table border=\"1\" class=\"dataframe\">\n",
       "  <thead>\n",
       "    <tr style=\"text-align: right;\">\n",
       "      <th></th>\n",
       "      <th>AppointmentID</th>\n",
       "      <th>PatientID</th>\n",
       "      <th>DentistID</th>\n",
       "      <th>AppointmentDate</th>\n",
       "      <th>AppointmentTime</th>\n",
       "      <th>Status</th>\n",
       "    </tr>\n",
       "  </thead>\n",
       "  <tbody>\n",
       "    <tr>\n",
       "      <th>0</th>\n",
       "      <td>1</td>\n",
       "      <td>19</td>\n",
       "      <td>7</td>\n",
       "      <td>2024-01-17</td>\n",
       "      <td>13:15:00</td>\n",
       "      <td>Scheduled</td>\n",
       "    </tr>\n",
       "    <tr>\n",
       "      <th>1</th>\n",
       "      <td>2</td>\n",
       "      <td>42</td>\n",
       "      <td>8</td>\n",
       "      <td>2024-12-17</td>\n",
       "      <td>11:30:00</td>\n",
       "      <td>Scheduled</td>\n",
       "    </tr>\n",
       "    <tr>\n",
       "      <th>2</th>\n",
       "      <td>3</td>\n",
       "      <td>15</td>\n",
       "      <td>17</td>\n",
       "      <td>2024-12-21</td>\n",
       "      <td>17:30:00</td>\n",
       "      <td>Cancelled</td>\n",
       "    </tr>\n",
       "    <tr>\n",
       "      <th>3</th>\n",
       "      <td>4</td>\n",
       "      <td>25</td>\n",
       "      <td>2</td>\n",
       "      <td>2025-02-18</td>\n",
       "      <td>10:45:00</td>\n",
       "      <td>Scheduled</td>\n",
       "    </tr>\n",
       "    <tr>\n",
       "      <th>4</th>\n",
       "      <td>5</td>\n",
       "      <td>25</td>\n",
       "      <td>1</td>\n",
       "      <td>2024-06-17</td>\n",
       "      <td>14:15:00</td>\n",
       "      <td>Scheduled</td>\n",
       "    </tr>\n",
       "    <tr>\n",
       "      <th>5</th>\n",
       "      <td>6</td>\n",
       "      <td>50</td>\n",
       "      <td>26</td>\n",
       "      <td>2024-12-02</td>\n",
       "      <td>10:00:00</td>\n",
       "      <td>Cancelled</td>\n",
       "    </tr>\n",
       "    <tr>\n",
       "      <th>6</th>\n",
       "      <td>7</td>\n",
       "      <td>3</td>\n",
       "      <td>27</td>\n",
       "      <td>2024-10-09</td>\n",
       "      <td>16:30:00</td>\n",
       "      <td>Scheduled</td>\n",
       "    </tr>\n",
       "    <tr>\n",
       "      <th>7</th>\n",
       "      <td>8</td>\n",
       "      <td>41</td>\n",
       "      <td>10</td>\n",
       "      <td>2024-08-18</td>\n",
       "      <td>11:15:00</td>\n",
       "      <td>Cancelled</td>\n",
       "    </tr>\n",
       "    <tr>\n",
       "      <th>8</th>\n",
       "      <td>9</td>\n",
       "      <td>40</td>\n",
       "      <td>11</td>\n",
       "      <td>2025-10-07</td>\n",
       "      <td>13:00:00</td>\n",
       "      <td>Completed</td>\n",
       "    </tr>\n",
       "    <tr>\n",
       "      <th>9</th>\n",
       "      <td>10</td>\n",
       "      <td>23</td>\n",
       "      <td>17</td>\n",
       "      <td>2025-02-14</td>\n",
       "      <td>13:45:00</td>\n",
       "      <td>Cancelled</td>\n",
       "    </tr>\n",
       "  </tbody>\n",
       "</table>\n",
       "</div>"
      ],
      "text/plain": [
       "   AppointmentID  PatientID  DentistID AppointmentDate AppointmentTime  \\\n",
       "0              1         19          7      2024-01-17        13:15:00   \n",
       "1              2         42          8      2024-12-17        11:30:00   \n",
       "2              3         15         17      2024-12-21        17:30:00   \n",
       "3              4         25          2      2025-02-18        10:45:00   \n",
       "4              5         25          1      2024-06-17        14:15:00   \n",
       "5              6         50         26      2024-12-02        10:00:00   \n",
       "6              7          3         27      2024-10-09        16:30:00   \n",
       "7              8         41         10      2024-08-18        11:15:00   \n",
       "8              9         40         11      2025-10-07        13:00:00   \n",
       "9             10         23         17      2025-02-14        13:45:00   \n",
       "\n",
       "      Status  \n",
       "0  Scheduled  \n",
       "1  Scheduled  \n",
       "2  Cancelled  \n",
       "3  Scheduled  \n",
       "4  Scheduled  \n",
       "5  Cancelled  \n",
       "6  Scheduled  \n",
       "7  Cancelled  \n",
       "8  Completed  \n",
       "9  Cancelled  "
      ]
     },
     "execution_count": 4,
     "metadata": {},
     "output_type": "execute_result"
    }
   ],
   "source": [
    "query = \"SELECT * FROM appointment\" # SQL query to select all data from the appointment table\n",
    "appointment_data = pd.read_sql_query(query, conn) # read the data into a pandas DataFrame\n",
    "appointment_data.head(10) # show the first 10 rows of the DataFrame\n"
   ]
  },
  {
   "cell_type": "markdown",
   "id": "82de9a94",
   "metadata": {},
   "source": [
    "### DENTIST TABLE"
   ]
  },
  {
   "cell_type": "code",
   "execution_count": 5,
   "id": "3b900d09",
   "metadata": {},
   "outputs": [
    {
     "data": {
      "application/vnd.microsoft.datawrangler.viewer.v0+json": {
       "columns": [
        {
         "name": "index",
         "rawType": "int64",
         "type": "integer"
        },
        {
         "name": "DentistID",
         "rawType": "int64",
         "type": "integer"
        },
        {
         "name": "Specialty",
         "rawType": "object",
         "type": "string"
        }
       ],
       "conversionMethod": "pd.DataFrame",
       "ref": "2bb184a5-7523-441c-83b0-e232c98bcf15",
       "rows": [
        [
         "0",
         "1",
         "Periodontics"
        ],
        [
         "1",
         "2",
         "Endodontics"
        ],
        [
         "2",
         "3",
         "Orthodontics"
        ],
        [
         "3",
         "4",
         "Prosthodontics"
        ],
        [
         "4",
         "5",
         "Endodontics"
        ],
        [
         "5",
         "6",
         "Orthodontics"
        ],
        [
         "6",
         "7",
         "Endodontics"
        ],
        [
         "7",
         "8",
         "Periodontics"
        ],
        [
         "8",
         "9",
         "Endodontics"
        ],
        [
         "9",
         "10",
         "Endodontics"
        ]
       ],
       "shape": {
        "columns": 2,
        "rows": 10
       }
      },
      "text/html": [
       "<div>\n",
       "<style scoped>\n",
       "    .dataframe tbody tr th:only-of-type {\n",
       "        vertical-align: middle;\n",
       "    }\n",
       "\n",
       "    .dataframe tbody tr th {\n",
       "        vertical-align: top;\n",
       "    }\n",
       "\n",
       "    .dataframe thead th {\n",
       "        text-align: right;\n",
       "    }\n",
       "</style>\n",
       "<table border=\"1\" class=\"dataframe\">\n",
       "  <thead>\n",
       "    <tr style=\"text-align: right;\">\n",
       "      <th></th>\n",
       "      <th>DentistID</th>\n",
       "      <th>Specialty</th>\n",
       "    </tr>\n",
       "  </thead>\n",
       "  <tbody>\n",
       "    <tr>\n",
       "      <th>0</th>\n",
       "      <td>1</td>\n",
       "      <td>Periodontics</td>\n",
       "    </tr>\n",
       "    <tr>\n",
       "      <th>1</th>\n",
       "      <td>2</td>\n",
       "      <td>Endodontics</td>\n",
       "    </tr>\n",
       "    <tr>\n",
       "      <th>2</th>\n",
       "      <td>3</td>\n",
       "      <td>Orthodontics</td>\n",
       "    </tr>\n",
       "    <tr>\n",
       "      <th>3</th>\n",
       "      <td>4</td>\n",
       "      <td>Prosthodontics</td>\n",
       "    </tr>\n",
       "    <tr>\n",
       "      <th>4</th>\n",
       "      <td>5</td>\n",
       "      <td>Endodontics</td>\n",
       "    </tr>\n",
       "    <tr>\n",
       "      <th>5</th>\n",
       "      <td>6</td>\n",
       "      <td>Orthodontics</td>\n",
       "    </tr>\n",
       "    <tr>\n",
       "      <th>6</th>\n",
       "      <td>7</td>\n",
       "      <td>Endodontics</td>\n",
       "    </tr>\n",
       "    <tr>\n",
       "      <th>7</th>\n",
       "      <td>8</td>\n",
       "      <td>Periodontics</td>\n",
       "    </tr>\n",
       "    <tr>\n",
       "      <th>8</th>\n",
       "      <td>9</td>\n",
       "      <td>Endodontics</td>\n",
       "    </tr>\n",
       "    <tr>\n",
       "      <th>9</th>\n",
       "      <td>10</td>\n",
       "      <td>Endodontics</td>\n",
       "    </tr>\n",
       "  </tbody>\n",
       "</table>\n",
       "</div>"
      ],
      "text/plain": [
       "   DentistID       Specialty\n",
       "0          1    Periodontics\n",
       "1          2     Endodontics\n",
       "2          3    Orthodontics\n",
       "3          4  Prosthodontics\n",
       "4          5     Endodontics\n",
       "5          6    Orthodontics\n",
       "6          7     Endodontics\n",
       "7          8    Periodontics\n",
       "8          9     Endodontics\n",
       "9         10     Endodontics"
      ]
     },
     "execution_count": 5,
     "metadata": {},
     "output_type": "execute_result"
    }
   ],
   "source": [
    "query = \"SELECT * FROM dentist\" # SQL query to select all data from the dentist table\n",
    "dentist_table = pd.read_sql_query(query, conn) # read the data into a pandas DataFrame\n",
    "dentist_table.head(10) # show the first 10 rows of the DataFrame\n"
   ]
  },
  {
   "cell_type": "markdown",
   "id": "15a4ef17",
   "metadata": {},
   "source": [
    "### TREATMENT TABLE"
   ]
  },
  {
   "cell_type": "code",
   "execution_count": 6,
   "id": "41ede185",
   "metadata": {},
   "outputs": [
    {
     "data": {
      "application/vnd.microsoft.datawrangler.viewer.v0+json": {
       "columns": [
        {
         "name": "index",
         "rawType": "int64",
         "type": "integer"
        },
        {
         "name": "TreatmentID",
         "rawType": "int64",
         "type": "integer"
        },
        {
         "name": "AppointmentID",
         "rawType": "int64",
         "type": "integer"
        },
        {
         "name": "TreatmentType",
         "rawType": "object",
         "type": "string"
        },
        {
         "name": "Description",
         "rawType": "object",
         "type": "string"
        },
        {
         "name": "Cost",
         "rawType": "float64",
         "type": "float"
        }
       ],
       "conversionMethod": "pd.DataFrame",
       "ref": "1b320e5c-53d1-470d-b7ff-fc58dcaf39a7",
       "rows": [
        [
         "0",
         "1",
         "1",
         "Medical",
         "Filling",
         "418.54"
        ],
        [
         "1",
         "2",
         "2",
         "Medical",
         "Filling",
         "195.95"
        ],
        [
         "2",
         "3",
         "3",
         "Medical",
         "Filling",
         "268.36"
        ],
        [
         "3",
         "4",
         "4",
         "Medical",
         "Braces Adjustment",
         "370.04"
        ],
        [
         "4",
         "5",
         "5",
         "Operational",
         "Root Canal",
         "769.76"
        ],
        [
         "5",
         "6",
         "6",
         "Operational",
         "Filling",
         "672.31"
        ],
        [
         "6",
         "7",
         "7",
         "Medical",
         "Root Canal",
         "566.27"
        ],
        [
         "7",
         "8",
         "8",
         "Operational",
         "Teeth Cleaning",
         "242.85"
        ],
        [
         "8",
         "9",
         "9",
         "Operational",
         "Teeth Cleaning",
         "641.86"
        ],
        [
         "9",
         "10",
         "10",
         "Operational",
         "Teeth Cleaning",
         "464.76"
        ]
       ],
       "shape": {
        "columns": 5,
        "rows": 10
       }
      },
      "text/html": [
       "<div>\n",
       "<style scoped>\n",
       "    .dataframe tbody tr th:only-of-type {\n",
       "        vertical-align: middle;\n",
       "    }\n",
       "\n",
       "    .dataframe tbody tr th {\n",
       "        vertical-align: top;\n",
       "    }\n",
       "\n",
       "    .dataframe thead th {\n",
       "        text-align: right;\n",
       "    }\n",
       "</style>\n",
       "<table border=\"1\" class=\"dataframe\">\n",
       "  <thead>\n",
       "    <tr style=\"text-align: right;\">\n",
       "      <th></th>\n",
       "      <th>TreatmentID</th>\n",
       "      <th>AppointmentID</th>\n",
       "      <th>TreatmentType</th>\n",
       "      <th>Description</th>\n",
       "      <th>Cost</th>\n",
       "    </tr>\n",
       "  </thead>\n",
       "  <tbody>\n",
       "    <tr>\n",
       "      <th>0</th>\n",
       "      <td>1</td>\n",
       "      <td>1</td>\n",
       "      <td>Medical</td>\n",
       "      <td>Filling</td>\n",
       "      <td>418.54</td>\n",
       "    </tr>\n",
       "    <tr>\n",
       "      <th>1</th>\n",
       "      <td>2</td>\n",
       "      <td>2</td>\n",
       "      <td>Medical</td>\n",
       "      <td>Filling</td>\n",
       "      <td>195.95</td>\n",
       "    </tr>\n",
       "    <tr>\n",
       "      <th>2</th>\n",
       "      <td>3</td>\n",
       "      <td>3</td>\n",
       "      <td>Medical</td>\n",
       "      <td>Filling</td>\n",
       "      <td>268.36</td>\n",
       "    </tr>\n",
       "    <tr>\n",
       "      <th>3</th>\n",
       "      <td>4</td>\n",
       "      <td>4</td>\n",
       "      <td>Medical</td>\n",
       "      <td>Braces Adjustment</td>\n",
       "      <td>370.04</td>\n",
       "    </tr>\n",
       "    <tr>\n",
       "      <th>4</th>\n",
       "      <td>5</td>\n",
       "      <td>5</td>\n",
       "      <td>Operational</td>\n",
       "      <td>Root Canal</td>\n",
       "      <td>769.76</td>\n",
       "    </tr>\n",
       "    <tr>\n",
       "      <th>5</th>\n",
       "      <td>6</td>\n",
       "      <td>6</td>\n",
       "      <td>Operational</td>\n",
       "      <td>Filling</td>\n",
       "      <td>672.31</td>\n",
       "    </tr>\n",
       "    <tr>\n",
       "      <th>6</th>\n",
       "      <td>7</td>\n",
       "      <td>7</td>\n",
       "      <td>Medical</td>\n",
       "      <td>Root Canal</td>\n",
       "      <td>566.27</td>\n",
       "    </tr>\n",
       "    <tr>\n",
       "      <th>7</th>\n",
       "      <td>8</td>\n",
       "      <td>8</td>\n",
       "      <td>Operational</td>\n",
       "      <td>Teeth Cleaning</td>\n",
       "      <td>242.85</td>\n",
       "    </tr>\n",
       "    <tr>\n",
       "      <th>8</th>\n",
       "      <td>9</td>\n",
       "      <td>9</td>\n",
       "      <td>Operational</td>\n",
       "      <td>Teeth Cleaning</td>\n",
       "      <td>641.86</td>\n",
       "    </tr>\n",
       "    <tr>\n",
       "      <th>9</th>\n",
       "      <td>10</td>\n",
       "      <td>10</td>\n",
       "      <td>Operational</td>\n",
       "      <td>Teeth Cleaning</td>\n",
       "      <td>464.76</td>\n",
       "    </tr>\n",
       "  </tbody>\n",
       "</table>\n",
       "</div>"
      ],
      "text/plain": [
       "   TreatmentID  AppointmentID TreatmentType        Description    Cost\n",
       "0            1              1       Medical            Filling  418.54\n",
       "1            2              2       Medical            Filling  195.95\n",
       "2            3              3       Medical            Filling  268.36\n",
       "3            4              4       Medical  Braces Adjustment  370.04\n",
       "4            5              5   Operational         Root Canal  769.76\n",
       "5            6              6   Operational            Filling  672.31\n",
       "6            7              7       Medical         Root Canal  566.27\n",
       "7            8              8   Operational     Teeth Cleaning  242.85\n",
       "8            9              9   Operational     Teeth Cleaning  641.86\n",
       "9           10             10   Operational     Teeth Cleaning  464.76"
      ]
     },
     "execution_count": 6,
     "metadata": {},
     "output_type": "execute_result"
    }
   ],
   "source": [
    "query = \"SELECT * FROM Treatment\" # SQL query to select all data from the treatment table\n",
    "treatment_table = pd.read_sql_query(query, conn) # read the data into a pandas DataFrame\n",
    "treatment_table.head(10) # show the first 10 rows of the DataFrame\n"
   ]
  },
  {
   "cell_type": "markdown",
   "id": "d68a2500",
   "metadata": {},
   "source": [
    "### PRESCRIPTION TABLE"
   ]
  },
  {
   "cell_type": "code",
   "execution_count": 7,
   "id": "0c5e2a3d",
   "metadata": {},
   "outputs": [
    {
     "data": {
      "application/vnd.microsoft.datawrangler.viewer.v0+json": {
       "columns": [
        {
         "name": "index",
         "rawType": "int64",
         "type": "integer"
        },
        {
         "name": "PrescriptionID",
         "rawType": "int64",
         "type": "integer"
        },
        {
         "name": "TreatmentID",
         "rawType": "int64",
         "type": "integer"
        },
        {
         "name": "MedicineID",
         "rawType": "int64",
         "type": "integer"
        },
        {
         "name": "Dosage",
         "rawType": "object",
         "type": "string"
        },
        {
         "name": "Duration",
         "rawType": "object",
         "type": "string"
        }
       ],
       "conversionMethod": "pd.DataFrame",
       "ref": "7feb7b8c-9a71-47f0-9128-c2e393af86ea",
       "rows": [
        [
         "0",
         "1",
         "1",
         "32",
         "495mg twice daily",
         "13 days"
        ],
        [
         "1",
         "2",
         "37",
         "15",
         "260mg thrice daily",
         "9 days"
        ],
        [
         "2",
         "3",
         "42",
         "17",
         "170mg thrice daily",
         "12 days"
        ],
        [
         "3",
         "4",
         "29",
         "33",
         "289mg thrice daily",
         "5 days"
        ],
        [
         "4",
         "5",
         "6",
         "9",
         "463mg once daily",
         "4 days"
        ],
        [
         "5",
         "6",
         "15",
         "9",
         "156mg once daily",
         "6 days"
        ],
        [
         "6",
         "7",
         "41",
         "27",
         "312mg once daily",
         "12 days"
        ],
        [
         "7",
         "8",
         "18",
         "43",
         "404mg once daily",
         "13 days"
        ],
        [
         "8",
         "9",
         "42",
         "1",
         "388mg twice daily",
         "8 days"
        ],
        [
         "9",
         "10",
         "3",
         "13",
         "460mg once daily",
         "8 days"
        ]
       ],
       "shape": {
        "columns": 5,
        "rows": 10
       }
      },
      "text/html": [
       "<div>\n",
       "<style scoped>\n",
       "    .dataframe tbody tr th:only-of-type {\n",
       "        vertical-align: middle;\n",
       "    }\n",
       "\n",
       "    .dataframe tbody tr th {\n",
       "        vertical-align: top;\n",
       "    }\n",
       "\n",
       "    .dataframe thead th {\n",
       "        text-align: right;\n",
       "    }\n",
       "</style>\n",
       "<table border=\"1\" class=\"dataframe\">\n",
       "  <thead>\n",
       "    <tr style=\"text-align: right;\">\n",
       "      <th></th>\n",
       "      <th>PrescriptionID</th>\n",
       "      <th>TreatmentID</th>\n",
       "      <th>MedicineID</th>\n",
       "      <th>Dosage</th>\n",
       "      <th>Duration</th>\n",
       "    </tr>\n",
       "  </thead>\n",
       "  <tbody>\n",
       "    <tr>\n",
       "      <th>0</th>\n",
       "      <td>1</td>\n",
       "      <td>1</td>\n",
       "      <td>32</td>\n",
       "      <td>495mg twice daily</td>\n",
       "      <td>13 days</td>\n",
       "    </tr>\n",
       "    <tr>\n",
       "      <th>1</th>\n",
       "      <td>2</td>\n",
       "      <td>37</td>\n",
       "      <td>15</td>\n",
       "      <td>260mg thrice daily</td>\n",
       "      <td>9 days</td>\n",
       "    </tr>\n",
       "    <tr>\n",
       "      <th>2</th>\n",
       "      <td>3</td>\n",
       "      <td>42</td>\n",
       "      <td>17</td>\n",
       "      <td>170mg thrice daily</td>\n",
       "      <td>12 days</td>\n",
       "    </tr>\n",
       "    <tr>\n",
       "      <th>3</th>\n",
       "      <td>4</td>\n",
       "      <td>29</td>\n",
       "      <td>33</td>\n",
       "      <td>289mg thrice daily</td>\n",
       "      <td>5 days</td>\n",
       "    </tr>\n",
       "    <tr>\n",
       "      <th>4</th>\n",
       "      <td>5</td>\n",
       "      <td>6</td>\n",
       "      <td>9</td>\n",
       "      <td>463mg once daily</td>\n",
       "      <td>4 days</td>\n",
       "    </tr>\n",
       "    <tr>\n",
       "      <th>5</th>\n",
       "      <td>6</td>\n",
       "      <td>15</td>\n",
       "      <td>9</td>\n",
       "      <td>156mg once daily</td>\n",
       "      <td>6 days</td>\n",
       "    </tr>\n",
       "    <tr>\n",
       "      <th>6</th>\n",
       "      <td>7</td>\n",
       "      <td>41</td>\n",
       "      <td>27</td>\n",
       "      <td>312mg once daily</td>\n",
       "      <td>12 days</td>\n",
       "    </tr>\n",
       "    <tr>\n",
       "      <th>7</th>\n",
       "      <td>8</td>\n",
       "      <td>18</td>\n",
       "      <td>43</td>\n",
       "      <td>404mg once daily</td>\n",
       "      <td>13 days</td>\n",
       "    </tr>\n",
       "    <tr>\n",
       "      <th>8</th>\n",
       "      <td>9</td>\n",
       "      <td>42</td>\n",
       "      <td>1</td>\n",
       "      <td>388mg twice daily</td>\n",
       "      <td>8 days</td>\n",
       "    </tr>\n",
       "    <tr>\n",
       "      <th>9</th>\n",
       "      <td>10</td>\n",
       "      <td>3</td>\n",
       "      <td>13</td>\n",
       "      <td>460mg once daily</td>\n",
       "      <td>8 days</td>\n",
       "    </tr>\n",
       "  </tbody>\n",
       "</table>\n",
       "</div>"
      ],
      "text/plain": [
       "   PrescriptionID  TreatmentID  MedicineID              Dosage Duration\n",
       "0               1            1          32   495mg twice daily  13 days\n",
       "1               2           37          15  260mg thrice daily   9 days\n",
       "2               3           42          17  170mg thrice daily  12 days\n",
       "3               4           29          33  289mg thrice daily   5 days\n",
       "4               5            6           9    463mg once daily   4 days\n",
       "5               6           15           9    156mg once daily   6 days\n",
       "6               7           41          27    312mg once daily  12 days\n",
       "7               8           18          43    404mg once daily  13 days\n",
       "8               9           42           1   388mg twice daily   8 days\n",
       "9              10            3          13    460mg once daily   8 days"
      ]
     },
     "execution_count": 7,
     "metadata": {},
     "output_type": "execute_result"
    }
   ],
   "source": [
    "\n",
    "query = \"SELECT * FROM Prescription\" # SQL query to select all data from the precscription table\n",
    "prescription_table = pd.read_sql_query(query, conn) # read the data into a pandas DataFrame\n",
    "prescription_table.head(10) # show the first 10 rows of the "
   ]
  },
  {
   "cell_type": "markdown",
   "id": "73dba9f1",
   "metadata": {},
   "source": [
    "### PAYMENT TABLE"
   ]
  },
  {
   "cell_type": "code",
   "execution_count": 8,
   "id": "97af89c1",
   "metadata": {},
   "outputs": [
    {
     "data": {
      "application/vnd.microsoft.datawrangler.viewer.v0+json": {
       "columns": [
        {
         "name": "index",
         "rawType": "int64",
         "type": "integer"
        },
        {
         "name": "PaymentID",
         "rawType": "int64",
         "type": "integer"
        },
        {
         "name": "TreatmentID",
         "rawType": "int64",
         "type": "integer"
        },
        {
         "name": "PatientID",
         "rawType": "int64",
         "type": "integer"
        },
        {
         "name": "Amount",
         "rawType": "float64",
         "type": "float"
        },
        {
         "name": "PaymentDate",
         "rawType": "object",
         "type": "string"
        }
       ],
       "conversionMethod": "pd.DataFrame",
       "ref": "1324099b-59b4-4570-9261-d1b492f22f0c",
       "rows": [
        [
         "0",
         "1",
         "1",
         "19",
         "281.63",
         "2025-10-31"
        ],
        [
         "1",
         "2",
         "2",
         "42",
         "513.6",
         "2025-05-12"
        ],
        [
         "2",
         "3",
         "3",
         "15",
         "143.93",
         "2025-03-21"
        ],
        [
         "3",
         "4",
         "4",
         "25",
         "410.24",
         "2024-11-01"
        ],
        [
         "4",
         "5",
         "5",
         "25",
         "134.06",
         "2025-08-11"
        ],
        [
         "5",
         "6",
         "6",
         "50",
         "207.07",
         "2024-04-05"
        ],
        [
         "6",
         "7",
         "7",
         "3",
         "311.71",
         "2024-10-08"
        ],
        [
         "7",
         "8",
         "8",
         "41",
         "965.86",
         "2025-07-15"
        ],
        [
         "8",
         "9",
         "9",
         "40",
         "937.19",
         "2025-08-14"
        ],
        [
         "9",
         "10",
         "10",
         "23",
         "381.54",
         "2025-05-30"
        ]
       ],
       "shape": {
        "columns": 5,
        "rows": 10
       }
      },
      "text/html": [
       "<div>\n",
       "<style scoped>\n",
       "    .dataframe tbody tr th:only-of-type {\n",
       "        vertical-align: middle;\n",
       "    }\n",
       "\n",
       "    .dataframe tbody tr th {\n",
       "        vertical-align: top;\n",
       "    }\n",
       "\n",
       "    .dataframe thead th {\n",
       "        text-align: right;\n",
       "    }\n",
       "</style>\n",
       "<table border=\"1\" class=\"dataframe\">\n",
       "  <thead>\n",
       "    <tr style=\"text-align: right;\">\n",
       "      <th></th>\n",
       "      <th>PaymentID</th>\n",
       "      <th>TreatmentID</th>\n",
       "      <th>PatientID</th>\n",
       "      <th>Amount</th>\n",
       "      <th>PaymentDate</th>\n",
       "    </tr>\n",
       "  </thead>\n",
       "  <tbody>\n",
       "    <tr>\n",
       "      <th>0</th>\n",
       "      <td>1</td>\n",
       "      <td>1</td>\n",
       "      <td>19</td>\n",
       "      <td>281.63</td>\n",
       "      <td>2025-10-31</td>\n",
       "    </tr>\n",
       "    <tr>\n",
       "      <th>1</th>\n",
       "      <td>2</td>\n",
       "      <td>2</td>\n",
       "      <td>42</td>\n",
       "      <td>513.60</td>\n",
       "      <td>2025-05-12</td>\n",
       "    </tr>\n",
       "    <tr>\n",
       "      <th>2</th>\n",
       "      <td>3</td>\n",
       "      <td>3</td>\n",
       "      <td>15</td>\n",
       "      <td>143.93</td>\n",
       "      <td>2025-03-21</td>\n",
       "    </tr>\n",
       "    <tr>\n",
       "      <th>3</th>\n",
       "      <td>4</td>\n",
       "      <td>4</td>\n",
       "      <td>25</td>\n",
       "      <td>410.24</td>\n",
       "      <td>2024-11-01</td>\n",
       "    </tr>\n",
       "    <tr>\n",
       "      <th>4</th>\n",
       "      <td>5</td>\n",
       "      <td>5</td>\n",
       "      <td>25</td>\n",
       "      <td>134.06</td>\n",
       "      <td>2025-08-11</td>\n",
       "    </tr>\n",
       "    <tr>\n",
       "      <th>5</th>\n",
       "      <td>6</td>\n",
       "      <td>6</td>\n",
       "      <td>50</td>\n",
       "      <td>207.07</td>\n",
       "      <td>2024-04-05</td>\n",
       "    </tr>\n",
       "    <tr>\n",
       "      <th>6</th>\n",
       "      <td>7</td>\n",
       "      <td>7</td>\n",
       "      <td>3</td>\n",
       "      <td>311.71</td>\n",
       "      <td>2024-10-08</td>\n",
       "    </tr>\n",
       "    <tr>\n",
       "      <th>7</th>\n",
       "      <td>8</td>\n",
       "      <td>8</td>\n",
       "      <td>41</td>\n",
       "      <td>965.86</td>\n",
       "      <td>2025-07-15</td>\n",
       "    </tr>\n",
       "    <tr>\n",
       "      <th>8</th>\n",
       "      <td>9</td>\n",
       "      <td>9</td>\n",
       "      <td>40</td>\n",
       "      <td>937.19</td>\n",
       "      <td>2025-08-14</td>\n",
       "    </tr>\n",
       "    <tr>\n",
       "      <th>9</th>\n",
       "      <td>10</td>\n",
       "      <td>10</td>\n",
       "      <td>23</td>\n",
       "      <td>381.54</td>\n",
       "      <td>2025-05-30</td>\n",
       "    </tr>\n",
       "  </tbody>\n",
       "</table>\n",
       "</div>"
      ],
      "text/plain": [
       "   PaymentID  TreatmentID  PatientID  Amount PaymentDate\n",
       "0          1            1         19  281.63  2025-10-31\n",
       "1          2            2         42  513.60  2025-05-12\n",
       "2          3            3         15  143.93  2025-03-21\n",
       "3          4            4         25  410.24  2024-11-01\n",
       "4          5            5         25  134.06  2025-08-11\n",
       "5          6            6         50  207.07  2024-04-05\n",
       "6          7            7          3  311.71  2024-10-08\n",
       "7          8            8         41  965.86  2025-07-15\n",
       "8          9            9         40  937.19  2025-08-14\n",
       "9         10           10         23  381.54  2025-05-30"
      ]
     },
     "execution_count": 8,
     "metadata": {},
     "output_type": "execute_result"
    }
   ],
   "source": [
    "\n",
    "query = \"SELECT * FROM Payment\" # SQL query to select all data from the payment table\n",
    "payment_table = pd.read_sql_query(query, conn) # read the data into a pandas DataFrame\n",
    "payment_table.head(10) # show the first 10 rows of the DataFrame"
   ]
  },
  {
   "cell_type": "markdown",
   "id": "97f8e607",
   "metadata": {},
   "source": [
    "### PATIENT TABLE"
   ]
  },
  {
   "cell_type": "code",
   "execution_count": 9,
   "id": "78993c59",
   "metadata": {},
   "outputs": [
    {
     "data": {
      "application/vnd.microsoft.datawrangler.viewer.v0+json": {
       "columns": [
        {
         "name": "index",
         "rawType": "int64",
         "type": "integer"
        },
        {
         "name": "PatientID",
         "rawType": "int64",
         "type": "integer"
        },
        {
         "name": "FirstName",
         "rawType": "object",
         "type": "string"
        },
        {
         "name": "LastName",
         "rawType": "object",
         "type": "string"
        },
        {
         "name": "DOB",
         "rawType": "object",
         "type": "string"
        },
        {
         "name": "Gender",
         "rawType": "object",
         "type": "string"
        },
        {
         "name": "Phone",
         "rawType": "object",
         "type": "string"
        },
        {
         "name": "Email",
         "rawType": "object",
         "type": "string"
        },
        {
         "name": "Address",
         "rawType": "object",
         "type": "string"
        }
       ],
       "conversionMethod": "pd.DataFrame",
       "ref": "ebfc26fe-137c-4076-9670-32e79b0f9028",
       "rows": [
        [
         "0",
         "1",
         "Michael",
         "Allen",
         "1972-05-03",
         "M",
         "555-4259",
         "john.smith@patient.com",
         "789 Pine Rd"
        ],
        [
         "1",
         "2",
         "John",
         "Brown",
         "1979-06-21",
         "Other",
         "555-7855",
         "mary.johnson@patient.com",
         "456 Oak Ave"
        ],
        [
         "2",
         "3",
         "David",
         "Brown",
         "1967-12-24",
         "Other",
         "555-5476",
         "alice.brown@patient.com",
         "789 Pine Rd"
        ],
        [
         "3",
         "4",
         "Sarah",
         "Lewis",
         "2003-07-10",
         "M",
         "555-4359",
         "bob.taylor@patient.com",
         "456 Oak Ave"
        ],
        [
         "4",
         "5",
         "Susan",
         "Taylor",
         "1988-02-20",
         "Other",
         "555-1668",
         "emma.wilson@patient.com",
         "456 Oak Ave"
        ],
        [
         "5",
         "6",
         "Karen",
         "Taylor",
         "1963-02-23",
         "Other",
         "555-7135",
         "james.davis@patient.com",
         "456 Oak Ave"
        ],
        [
         "6",
         "7",
         "Lisa",
         "Davis",
         "1998-09-09",
         "Other",
         "555-2845",
         "sarah.clark@patient.com",
         "202 Birch Ln"
        ],
        [
         "7",
         "8",
         "Emma",
         "Lewis",
         "1995-02-09",
         "M",
         "555-4733",
         "david.lewis@patient.com",
         "789 Pine Rd"
        ],
        [
         "8",
         "9",
         "Lisa",
         "Green",
         "1975-08-08",
         "F",
         "555-4497",
         "lisa.walker@patient.com",
         "456 Oak Ave"
        ],
        [
         "9",
         "10",
         "Mark",
         "Lewis",
         "1984-06-13",
         "M",
         "555-1973",
         "michael.hall@patient.com",
         "789 Pine Rd"
        ]
       ],
       "shape": {
        "columns": 8,
        "rows": 10
       }
      },
      "text/html": [
       "<div>\n",
       "<style scoped>\n",
       "    .dataframe tbody tr th:only-of-type {\n",
       "        vertical-align: middle;\n",
       "    }\n",
       "\n",
       "    .dataframe tbody tr th {\n",
       "        vertical-align: top;\n",
       "    }\n",
       "\n",
       "    .dataframe thead th {\n",
       "        text-align: right;\n",
       "    }\n",
       "</style>\n",
       "<table border=\"1\" class=\"dataframe\">\n",
       "  <thead>\n",
       "    <tr style=\"text-align: right;\">\n",
       "      <th></th>\n",
       "      <th>PatientID</th>\n",
       "      <th>FirstName</th>\n",
       "      <th>LastName</th>\n",
       "      <th>DOB</th>\n",
       "      <th>Gender</th>\n",
       "      <th>Phone</th>\n",
       "      <th>Email</th>\n",
       "      <th>Address</th>\n",
       "    </tr>\n",
       "  </thead>\n",
       "  <tbody>\n",
       "    <tr>\n",
       "      <th>0</th>\n",
       "      <td>1</td>\n",
       "      <td>Michael</td>\n",
       "      <td>Allen</td>\n",
       "      <td>1972-05-03</td>\n",
       "      <td>M</td>\n",
       "      <td>555-4259</td>\n",
       "      <td>john.smith@patient.com</td>\n",
       "      <td>789 Pine Rd</td>\n",
       "    </tr>\n",
       "    <tr>\n",
       "      <th>1</th>\n",
       "      <td>2</td>\n",
       "      <td>John</td>\n",
       "      <td>Brown</td>\n",
       "      <td>1979-06-21</td>\n",
       "      <td>Other</td>\n",
       "      <td>555-7855</td>\n",
       "      <td>mary.johnson@patient.com</td>\n",
       "      <td>456 Oak Ave</td>\n",
       "    </tr>\n",
       "    <tr>\n",
       "      <th>2</th>\n",
       "      <td>3</td>\n",
       "      <td>David</td>\n",
       "      <td>Brown</td>\n",
       "      <td>1967-12-24</td>\n",
       "      <td>Other</td>\n",
       "      <td>555-5476</td>\n",
       "      <td>alice.brown@patient.com</td>\n",
       "      <td>789 Pine Rd</td>\n",
       "    </tr>\n",
       "    <tr>\n",
       "      <th>3</th>\n",
       "      <td>4</td>\n",
       "      <td>Sarah</td>\n",
       "      <td>Lewis</td>\n",
       "      <td>2003-07-10</td>\n",
       "      <td>M</td>\n",
       "      <td>555-4359</td>\n",
       "      <td>bob.taylor@patient.com</td>\n",
       "      <td>456 Oak Ave</td>\n",
       "    </tr>\n",
       "    <tr>\n",
       "      <th>4</th>\n",
       "      <td>5</td>\n",
       "      <td>Susan</td>\n",
       "      <td>Taylor</td>\n",
       "      <td>1988-02-20</td>\n",
       "      <td>Other</td>\n",
       "      <td>555-1668</td>\n",
       "      <td>emma.wilson@patient.com</td>\n",
       "      <td>456 Oak Ave</td>\n",
       "    </tr>\n",
       "    <tr>\n",
       "      <th>5</th>\n",
       "      <td>6</td>\n",
       "      <td>Karen</td>\n",
       "      <td>Taylor</td>\n",
       "      <td>1963-02-23</td>\n",
       "      <td>Other</td>\n",
       "      <td>555-7135</td>\n",
       "      <td>james.davis@patient.com</td>\n",
       "      <td>456 Oak Ave</td>\n",
       "    </tr>\n",
       "    <tr>\n",
       "      <th>6</th>\n",
       "      <td>7</td>\n",
       "      <td>Lisa</td>\n",
       "      <td>Davis</td>\n",
       "      <td>1998-09-09</td>\n",
       "      <td>Other</td>\n",
       "      <td>555-2845</td>\n",
       "      <td>sarah.clark@patient.com</td>\n",
       "      <td>202 Birch Ln</td>\n",
       "    </tr>\n",
       "    <tr>\n",
       "      <th>7</th>\n",
       "      <td>8</td>\n",
       "      <td>Emma</td>\n",
       "      <td>Lewis</td>\n",
       "      <td>1995-02-09</td>\n",
       "      <td>M</td>\n",
       "      <td>555-4733</td>\n",
       "      <td>david.lewis@patient.com</td>\n",
       "      <td>789 Pine Rd</td>\n",
       "    </tr>\n",
       "    <tr>\n",
       "      <th>8</th>\n",
       "      <td>9</td>\n",
       "      <td>Lisa</td>\n",
       "      <td>Green</td>\n",
       "      <td>1975-08-08</td>\n",
       "      <td>F</td>\n",
       "      <td>555-4497</td>\n",
       "      <td>lisa.walker@patient.com</td>\n",
       "      <td>456 Oak Ave</td>\n",
       "    </tr>\n",
       "    <tr>\n",
       "      <th>9</th>\n",
       "      <td>10</td>\n",
       "      <td>Mark</td>\n",
       "      <td>Lewis</td>\n",
       "      <td>1984-06-13</td>\n",
       "      <td>M</td>\n",
       "      <td>555-1973</td>\n",
       "      <td>michael.hall@patient.com</td>\n",
       "      <td>789 Pine Rd</td>\n",
       "    </tr>\n",
       "  </tbody>\n",
       "</table>\n",
       "</div>"
      ],
      "text/plain": [
       "   PatientID FirstName LastName         DOB Gender     Phone  \\\n",
       "0          1   Michael    Allen  1972-05-03      M  555-4259   \n",
       "1          2      John    Brown  1979-06-21  Other  555-7855   \n",
       "2          3     David    Brown  1967-12-24  Other  555-5476   \n",
       "3          4     Sarah    Lewis  2003-07-10      M  555-4359   \n",
       "4          5     Susan   Taylor  1988-02-20  Other  555-1668   \n",
       "5          6     Karen   Taylor  1963-02-23  Other  555-7135   \n",
       "6          7      Lisa    Davis  1998-09-09  Other  555-2845   \n",
       "7          8      Emma    Lewis  1995-02-09      M  555-4733   \n",
       "8          9      Lisa    Green  1975-08-08      F  555-4497   \n",
       "9         10      Mark    Lewis  1984-06-13      M  555-1973   \n",
       "\n",
       "                      Email       Address  \n",
       "0    john.smith@patient.com   789 Pine Rd  \n",
       "1  mary.johnson@patient.com   456 Oak Ave  \n",
       "2   alice.brown@patient.com   789 Pine Rd  \n",
       "3    bob.taylor@patient.com   456 Oak Ave  \n",
       "4   emma.wilson@patient.com   456 Oak Ave  \n",
       "5   james.davis@patient.com   456 Oak Ave  \n",
       "6   sarah.clark@patient.com  202 Birch Ln  \n",
       "7   david.lewis@patient.com   789 Pine Rd  \n",
       "8   lisa.walker@patient.com   456 Oak Ave  \n",
       "9  michael.hall@patient.com   789 Pine Rd  "
      ]
     },
     "execution_count": 9,
     "metadata": {},
     "output_type": "execute_result"
    }
   ],
   "source": [
    "\n",
    "query = \"SELECT * FROM Patient\" # SQL query to select all data from the patient table\n",
    "patient_table = pd.read_sql_query(query, conn) # read the data into a pandas DataFrame\n",
    "patient_table.head(10) # show the first 10 rows of the DataFrame"
   ]
  },
  {
   "cell_type": "markdown",
   "id": "9354e1c3",
   "metadata": {},
   "source": [
    "### Medicine TABLE"
   ]
  },
  {
   "cell_type": "code",
   "execution_count": 10,
   "id": "fe5563ae",
   "metadata": {},
   "outputs": [
    {
     "data": {
      "application/vnd.microsoft.datawrangler.viewer.v0+json": {
       "columns": [
        {
         "name": "index",
         "rawType": "int64",
         "type": "integer"
        },
        {
         "name": "MedicineID",
         "rawType": "int64",
         "type": "integer"
        },
        {
         "name": "Name",
         "rawType": "object",
         "type": "string"
        },
        {
         "name": "Description",
         "rawType": "object",
         "type": "string"
        },
        {
         "name": "StockQuantity",
         "rawType": "int64",
         "type": "integer"
        }
       ],
       "conversionMethod": "pd.DataFrame",
       "ref": "4ca219ce-86e4-47b0-807f-eb363f008819",
       "rows": [
        [
         "0",
         "1",
         "Lidocaine 1",
         "Lidocaine for dental use",
         "115"
        ],
        [
         "1",
         "2",
         "Fluoride Gel 2",
         "Paracetamol for dental use",
         "162"
        ],
        [
         "2",
         "3",
         "Ibuprofen 3",
         "Amoxicillin for dental use",
         "172"
        ],
        [
         "3",
         "4",
         "Ibuprofen 4",
         "Amoxicillin for dental use",
         "19"
        ],
        [
         "4",
         "5",
         "Fluoride Gel 5",
         "Paracetamol for dental use",
         "177"
        ],
        [
         "5",
         "6",
         "Amoxicillin 6",
         "Lidocaine for dental use",
         "67"
        ],
        [
         "6",
         "7",
         "Amoxicillin 7",
         "Paracetamol for dental use",
         "21"
        ],
        [
         "7",
         "8",
         "Lidocaine 8",
         "Ibuprofen for dental use",
         "59"
        ],
        [
         "8",
         "9",
         "Ibuprofen 9",
         "Lidocaine for dental use",
         "158"
        ],
        [
         "9",
         "10",
         "Paracetamol 10",
         "Ibuprofen for dental use",
         "71"
        ]
       ],
       "shape": {
        "columns": 4,
        "rows": 10
       }
      },
      "text/html": [
       "<div>\n",
       "<style scoped>\n",
       "    .dataframe tbody tr th:only-of-type {\n",
       "        vertical-align: middle;\n",
       "    }\n",
       "\n",
       "    .dataframe tbody tr th {\n",
       "        vertical-align: top;\n",
       "    }\n",
       "\n",
       "    .dataframe thead th {\n",
       "        text-align: right;\n",
       "    }\n",
       "</style>\n",
       "<table border=\"1\" class=\"dataframe\">\n",
       "  <thead>\n",
       "    <tr style=\"text-align: right;\">\n",
       "      <th></th>\n",
       "      <th>MedicineID</th>\n",
       "      <th>Name</th>\n",
       "      <th>Description</th>\n",
       "      <th>StockQuantity</th>\n",
       "    </tr>\n",
       "  </thead>\n",
       "  <tbody>\n",
       "    <tr>\n",
       "      <th>0</th>\n",
       "      <td>1</td>\n",
       "      <td>Lidocaine 1</td>\n",
       "      <td>Lidocaine for dental use</td>\n",
       "      <td>115</td>\n",
       "    </tr>\n",
       "    <tr>\n",
       "      <th>1</th>\n",
       "      <td>2</td>\n",
       "      <td>Fluoride Gel 2</td>\n",
       "      <td>Paracetamol for dental use</td>\n",
       "      <td>162</td>\n",
       "    </tr>\n",
       "    <tr>\n",
       "      <th>2</th>\n",
       "      <td>3</td>\n",
       "      <td>Ibuprofen 3</td>\n",
       "      <td>Amoxicillin for dental use</td>\n",
       "      <td>172</td>\n",
       "    </tr>\n",
       "    <tr>\n",
       "      <th>3</th>\n",
       "      <td>4</td>\n",
       "      <td>Ibuprofen 4</td>\n",
       "      <td>Amoxicillin for dental use</td>\n",
       "      <td>19</td>\n",
       "    </tr>\n",
       "    <tr>\n",
       "      <th>4</th>\n",
       "      <td>5</td>\n",
       "      <td>Fluoride Gel 5</td>\n",
       "      <td>Paracetamol for dental use</td>\n",
       "      <td>177</td>\n",
       "    </tr>\n",
       "    <tr>\n",
       "      <th>5</th>\n",
       "      <td>6</td>\n",
       "      <td>Amoxicillin 6</td>\n",
       "      <td>Lidocaine for dental use</td>\n",
       "      <td>67</td>\n",
       "    </tr>\n",
       "    <tr>\n",
       "      <th>6</th>\n",
       "      <td>7</td>\n",
       "      <td>Amoxicillin 7</td>\n",
       "      <td>Paracetamol for dental use</td>\n",
       "      <td>21</td>\n",
       "    </tr>\n",
       "    <tr>\n",
       "      <th>7</th>\n",
       "      <td>8</td>\n",
       "      <td>Lidocaine 8</td>\n",
       "      <td>Ibuprofen for dental use</td>\n",
       "      <td>59</td>\n",
       "    </tr>\n",
       "    <tr>\n",
       "      <th>8</th>\n",
       "      <td>9</td>\n",
       "      <td>Ibuprofen 9</td>\n",
       "      <td>Lidocaine for dental use</td>\n",
       "      <td>158</td>\n",
       "    </tr>\n",
       "    <tr>\n",
       "      <th>9</th>\n",
       "      <td>10</td>\n",
       "      <td>Paracetamol 10</td>\n",
       "      <td>Ibuprofen for dental use</td>\n",
       "      <td>71</td>\n",
       "    </tr>\n",
       "  </tbody>\n",
       "</table>\n",
       "</div>"
      ],
      "text/plain": [
       "   MedicineID            Name                 Description  StockQuantity\n",
       "0           1     Lidocaine 1    Lidocaine for dental use            115\n",
       "1           2  Fluoride Gel 2  Paracetamol for dental use            162\n",
       "2           3     Ibuprofen 3  Amoxicillin for dental use            172\n",
       "3           4     Ibuprofen 4  Amoxicillin for dental use             19\n",
       "4           5  Fluoride Gel 5  Paracetamol for dental use            177\n",
       "5           6   Amoxicillin 6    Lidocaine for dental use             67\n",
       "6           7   Amoxicillin 7  Paracetamol for dental use             21\n",
       "7           8     Lidocaine 8    Ibuprofen for dental use             59\n",
       "8           9     Ibuprofen 9    Lidocaine for dental use            158\n",
       "9          10  Paracetamol 10    Ibuprofen for dental use             71"
      ]
     },
     "execution_count": 10,
     "metadata": {},
     "output_type": "execute_result"
    }
   ],
   "source": [
    "query = \"SELECT * FROM medicine\" # SQL query to select all data from the medicine table\n",
    "medecine_table = pd.read_sql_query(query, conn) # read the data into a pandas DataFrame\n",
    "medecine_table.head(10) # show the first 10 rows of the DataFrame"
   ]
  },
  {
   "cell_type": "markdown",
   "id": "33e8f98f",
   "metadata": {},
   "source": [
    "## 16 SQL Queries for Statistical Information"
   ]
  },
  {
   "cell_type": "markdown",
   "id": "87ef2132",
   "metadata": {},
   "source": [
    "***1. Count of Staff by Role***"
   ]
  },
  {
   "cell_type": "code",
   "execution_count": 11,
   "id": "57f6cac8",
   "metadata": {},
   "outputs": [
    {
     "data": {
      "application/vnd.microsoft.datawrangler.viewer.v0+json": {
       "columns": [
        {
         "name": "index",
         "rawType": "int64",
         "type": "integer"
        },
        {
         "name": "Role",
         "rawType": "object",
         "type": "string"
        },
        {
         "name": "StaffCount",
         "rawType": "int64",
         "type": "integer"
        }
       ],
       "conversionMethod": "pd.DataFrame",
       "ref": "8347a575-f6b6-48fc-80a3-b1c7d2bc5a20",
       "rows": [
        [
         "0",
         "Dentist",
         "30"
        ],
        [
         "1",
         "Employee",
         "10"
        ],
        [
         "2",
         "Nurse",
         "10"
        ]
       ],
       "shape": {
        "columns": 2,
        "rows": 3
       }
      },
      "text/html": [
       "<div>\n",
       "<style scoped>\n",
       "    .dataframe tbody tr th:only-of-type {\n",
       "        vertical-align: middle;\n",
       "    }\n",
       "\n",
       "    .dataframe tbody tr th {\n",
       "        vertical-align: top;\n",
       "    }\n",
       "\n",
       "    .dataframe thead th {\n",
       "        text-align: right;\n",
       "    }\n",
       "</style>\n",
       "<table border=\"1\" class=\"dataframe\">\n",
       "  <thead>\n",
       "    <tr style=\"text-align: right;\">\n",
       "      <th></th>\n",
       "      <th>Role</th>\n",
       "      <th>StaffCount</th>\n",
       "    </tr>\n",
       "  </thead>\n",
       "  <tbody>\n",
       "    <tr>\n",
       "      <th>0</th>\n",
       "      <td>Dentist</td>\n",
       "      <td>30</td>\n",
       "    </tr>\n",
       "    <tr>\n",
       "      <th>1</th>\n",
       "      <td>Employee</td>\n",
       "      <td>10</td>\n",
       "    </tr>\n",
       "    <tr>\n",
       "      <th>2</th>\n",
       "      <td>Nurse</td>\n",
       "      <td>10</td>\n",
       "    </tr>\n",
       "  </tbody>\n",
       "</table>\n",
       "</div>"
      ],
      "text/plain": [
       "       Role  StaffCount\n",
       "0   Dentist          30\n",
       "1  Employee          10\n",
       "2     Nurse          10"
      ]
     },
     "execution_count": 11,
     "metadata": {},
     "output_type": "execute_result"
    }
   ],
   "source": [
    "query = \"\"\"\n",
    "SELECT Role, COUNT(*) as StaffCount\n",
    "FROM Staff\n",
    "GROUP BY Role;\"\"\"\n",
    "staff_data = pd.read_sql_query(query, conn)\n",
    "staff_data # show the first 10 rows of the DataFrame"
   ]
  },
  {
   "cell_type": "markdown",
   "id": "e471149e",
   "metadata": {},
   "source": [
    "***2. Number of Dentists by Specialty***"
   ]
  },
  {
   "cell_type": "code",
   "execution_count": 12,
   "id": "3c7b6eb2",
   "metadata": {},
   "outputs": [
    {
     "data": {
      "application/vnd.microsoft.datawrangler.viewer.v0+json": {
       "columns": [
        {
         "name": "index",
         "rawType": "int64",
         "type": "integer"
        },
        {
         "name": "Specialty",
         "rawType": "object",
         "type": "string"
        },
        {
         "name": "DentistCount",
         "rawType": "int64",
         "type": "integer"
        }
       ],
       "conversionMethod": "pd.DataFrame",
       "ref": "c9d89569-56d0-4272-af63-7dbc81b17b86",
       "rows": [
        [
         "0",
         "Endodontics",
         "10"
        ],
        [
         "1",
         "General Dentistry",
         "1"
        ],
        [
         "2",
         "Orthodontics",
         "9"
        ],
        [
         "3",
         "Periodontics",
         "5"
        ],
        [
         "4",
         "Prosthodontics",
         "5"
        ]
       ],
       "shape": {
        "columns": 2,
        "rows": 5
       }
      },
      "text/html": [
       "<div>\n",
       "<style scoped>\n",
       "    .dataframe tbody tr th:only-of-type {\n",
       "        vertical-align: middle;\n",
       "    }\n",
       "\n",
       "    .dataframe tbody tr th {\n",
       "        vertical-align: top;\n",
       "    }\n",
       "\n",
       "    .dataframe thead th {\n",
       "        text-align: right;\n",
       "    }\n",
       "</style>\n",
       "<table border=\"1\" class=\"dataframe\">\n",
       "  <thead>\n",
       "    <tr style=\"text-align: right;\">\n",
       "      <th></th>\n",
       "      <th>Specialty</th>\n",
       "      <th>DentistCount</th>\n",
       "    </tr>\n",
       "  </thead>\n",
       "  <tbody>\n",
       "    <tr>\n",
       "      <th>0</th>\n",
       "      <td>Endodontics</td>\n",
       "      <td>10</td>\n",
       "    </tr>\n",
       "    <tr>\n",
       "      <th>1</th>\n",
       "      <td>General Dentistry</td>\n",
       "      <td>1</td>\n",
       "    </tr>\n",
       "    <tr>\n",
       "      <th>2</th>\n",
       "      <td>Orthodontics</td>\n",
       "      <td>9</td>\n",
       "    </tr>\n",
       "    <tr>\n",
       "      <th>3</th>\n",
       "      <td>Periodontics</td>\n",
       "      <td>5</td>\n",
       "    </tr>\n",
       "    <tr>\n",
       "      <th>4</th>\n",
       "      <td>Prosthodontics</td>\n",
       "      <td>5</td>\n",
       "    </tr>\n",
       "  </tbody>\n",
       "</table>\n",
       "</div>"
      ],
      "text/plain": [
       "           Specialty  DentistCount\n",
       "0        Endodontics            10\n",
       "1  General Dentistry             1\n",
       "2       Orthodontics             9\n",
       "3       Periodontics             5\n",
       "4     Prosthodontics             5"
      ]
     },
     "execution_count": 12,
     "metadata": {},
     "output_type": "execute_result"
    }
   ],
   "source": [
    "query = \"\"\"\n",
    "SELECT Specialty, COUNT(*) as DentistCount\n",
    "FROM Dentist\n",
    "GROUP BY Specialty;\"\"\" \n",
    "dentist_data = pd.read_sql_query(query, conn)\n",
    "dentist_data"
   ]
  },
  {
   "cell_type": "markdown",
   "id": "3e479e74",
   "metadata": {},
   "source": [
    "***3. Total Number of Patients by Gender***"
   ]
  },
  {
   "cell_type": "code",
   "execution_count": 13,
   "id": "e8c06ca9",
   "metadata": {},
   "outputs": [
    {
     "data": {
      "application/vnd.microsoft.datawrangler.viewer.v0+json": {
       "columns": [
        {
         "name": "index",
         "rawType": "int64",
         "type": "integer"
        },
        {
         "name": "Gender",
         "rawType": "object",
         "type": "string"
        },
        {
         "name": "PatientCount",
         "rawType": "int64",
         "type": "integer"
        }
       ],
       "conversionMethod": "pd.DataFrame",
       "ref": "975a86fc-77bd-42cf-9e1e-939ddd965d0a",
       "rows": [
        [
         "0",
         "F",
         "11"
        ],
        [
         "1",
         "M",
         "16"
        ],
        [
         "2",
         "Other",
         "23"
        ]
       ],
       "shape": {
        "columns": 2,
        "rows": 3
       }
      },
      "text/html": [
       "<div>\n",
       "<style scoped>\n",
       "    .dataframe tbody tr th:only-of-type {\n",
       "        vertical-align: middle;\n",
       "    }\n",
       "\n",
       "    .dataframe tbody tr th {\n",
       "        vertical-align: top;\n",
       "    }\n",
       "\n",
       "    .dataframe thead th {\n",
       "        text-align: right;\n",
       "    }\n",
       "</style>\n",
       "<table border=\"1\" class=\"dataframe\">\n",
       "  <thead>\n",
       "    <tr style=\"text-align: right;\">\n",
       "      <th></th>\n",
       "      <th>Gender</th>\n",
       "      <th>PatientCount</th>\n",
       "    </tr>\n",
       "  </thead>\n",
       "  <tbody>\n",
       "    <tr>\n",
       "      <th>0</th>\n",
       "      <td>F</td>\n",
       "      <td>11</td>\n",
       "    </tr>\n",
       "    <tr>\n",
       "      <th>1</th>\n",
       "      <td>M</td>\n",
       "      <td>16</td>\n",
       "    </tr>\n",
       "    <tr>\n",
       "      <th>2</th>\n",
       "      <td>Other</td>\n",
       "      <td>23</td>\n",
       "    </tr>\n",
       "  </tbody>\n",
       "</table>\n",
       "</div>"
      ],
      "text/plain": [
       "  Gender  PatientCount\n",
       "0      F            11\n",
       "1      M            16\n",
       "2  Other            23"
      ]
     },
     "execution_count": 13,
     "metadata": {},
     "output_type": "execute_result"
    }
   ],
   "source": [
    "query = \"\"\"\n",
    "SELECT Gender, COUNT(*) as PatientCount\n",
    "FROM Patient\n",
    "GROUP BY Gender;\"\"\"\n",
    "patient_data = pd.read_sql_query(query, conn)\n",
    "patient_data\n"
   ]
  },
  {
   "cell_type": "markdown",
   "id": "f7fc1f6e",
   "metadata": {},
   "source": [
    "***4. Total Appointments by Status***"
   ]
  },
  {
   "cell_type": "code",
   "execution_count": 14,
   "id": "3b4f0a5c",
   "metadata": {},
   "outputs": [
    {
     "data": {
      "application/vnd.microsoft.datawrangler.viewer.v0+json": {
       "columns": [
        {
         "name": "index",
         "rawType": "int64",
         "type": "integer"
        },
        {
         "name": "Status",
         "rawType": "object",
         "type": "string"
        },
        {
         "name": "AppointmentCount",
         "rawType": "int64",
         "type": "integer"
        }
       ],
       "conversionMethod": "pd.DataFrame",
       "ref": "686307e8-5a44-416f-a26f-638360c3ea1b",
       "rows": [
        [
         "0",
         "Cancelled",
         "19"
        ],
        [
         "1",
         "Completed",
         "13"
        ],
        [
         "2",
         "Scheduled",
         "18"
        ]
       ],
       "shape": {
        "columns": 2,
        "rows": 3
       }
      },
      "text/html": [
       "<div>\n",
       "<style scoped>\n",
       "    .dataframe tbody tr th:only-of-type {\n",
       "        vertical-align: middle;\n",
       "    }\n",
       "\n",
       "    .dataframe tbody tr th {\n",
       "        vertical-align: top;\n",
       "    }\n",
       "\n",
       "    .dataframe thead th {\n",
       "        text-align: right;\n",
       "    }\n",
       "</style>\n",
       "<table border=\"1\" class=\"dataframe\">\n",
       "  <thead>\n",
       "    <tr style=\"text-align: right;\">\n",
       "      <th></th>\n",
       "      <th>Status</th>\n",
       "      <th>AppointmentCount</th>\n",
       "    </tr>\n",
       "  </thead>\n",
       "  <tbody>\n",
       "    <tr>\n",
       "      <th>0</th>\n",
       "      <td>Cancelled</td>\n",
       "      <td>19</td>\n",
       "    </tr>\n",
       "    <tr>\n",
       "      <th>1</th>\n",
       "      <td>Completed</td>\n",
       "      <td>13</td>\n",
       "    </tr>\n",
       "    <tr>\n",
       "      <th>2</th>\n",
       "      <td>Scheduled</td>\n",
       "      <td>18</td>\n",
       "    </tr>\n",
       "  </tbody>\n",
       "</table>\n",
       "</div>"
      ],
      "text/plain": [
       "      Status  AppointmentCount\n",
       "0  Cancelled                19\n",
       "1  Completed                13\n",
       "2  Scheduled                18"
      ]
     },
     "execution_count": 14,
     "metadata": {},
     "output_type": "execute_result"
    }
   ],
   "source": [
    "\n",
    "query = \"\"\"\n",
    "SELECT Status, COUNT(*) as AppointmentCount\n",
    "FROM Appointment\n",
    "GROUP BY Status;\"\"\"\n",
    "status_data = pd.read_sql_query(query, conn)\n",
    "status_data\n",
    "\n"
   ]
  },
  {
   "cell_type": "markdown",
   "id": "84319142",
   "metadata": {},
   "source": [
    "***5. Average Cost of Treatments by Type***"
   ]
  },
  {
   "cell_type": "code",
   "execution_count": 15,
   "id": "015e3894",
   "metadata": {},
   "outputs": [
    {
     "data": {
      "application/vnd.microsoft.datawrangler.viewer.v0+json": {
       "columns": [
        {
         "name": "index",
         "rawType": "int64",
         "type": "integer"
        },
        {
         "name": "TreatmentType",
         "rawType": "object",
         "type": "string"
        },
        {
         "name": "AvgCost",
         "rawType": "float64",
         "type": "float"
        }
       ],
       "conversionMethod": "pd.DataFrame",
       "ref": "120d2a91-aebc-4ce4-9f3b-1d4f0b6ab490",
       "rows": [
        [
         "0",
         "Medical",
         "445.91"
        ],
        [
         "1",
         "Operational",
         "504.16"
        ]
       ],
       "shape": {
        "columns": 2,
        "rows": 2
       }
      },
      "text/html": [
       "<div>\n",
       "<style scoped>\n",
       "    .dataframe tbody tr th:only-of-type {\n",
       "        vertical-align: middle;\n",
       "    }\n",
       "\n",
       "    .dataframe tbody tr th {\n",
       "        vertical-align: top;\n",
       "    }\n",
       "\n",
       "    .dataframe thead th {\n",
       "        text-align: right;\n",
       "    }\n",
       "</style>\n",
       "<table border=\"1\" class=\"dataframe\">\n",
       "  <thead>\n",
       "    <tr style=\"text-align: right;\">\n",
       "      <th></th>\n",
       "      <th>TreatmentType</th>\n",
       "      <th>AvgCost</th>\n",
       "    </tr>\n",
       "  </thead>\n",
       "  <tbody>\n",
       "    <tr>\n",
       "      <th>0</th>\n",
       "      <td>Medical</td>\n",
       "      <td>445.91</td>\n",
       "    </tr>\n",
       "    <tr>\n",
       "      <th>1</th>\n",
       "      <td>Operational</td>\n",
       "      <td>504.16</td>\n",
       "    </tr>\n",
       "  </tbody>\n",
       "</table>\n",
       "</div>"
      ],
      "text/plain": [
       "  TreatmentType  AvgCost\n",
       "0       Medical   445.91\n",
       "1   Operational   504.16"
      ]
     },
     "execution_count": 15,
     "metadata": {},
     "output_type": "execute_result"
    }
   ],
   "source": [
    "query = \"\"\"\n",
    "SELECT TreatmentType, ROUND(AVG(Cost), 2) as AvgCost\n",
    "FROM Treatment\n",
    "GROUP BY TreatmentType;\"\"\"\n",
    "treatment_data = pd.read_sql_query(query, conn)\n",
    "treatment_data\n"
   ]
  },
  {
   "cell_type": "markdown",
   "id": "a509a2a7",
   "metadata": {},
   "source": [
    "***6. Total Revenue from Treatments***"
   ]
  },
  {
   "cell_type": "code",
   "execution_count": 16,
   "id": "67ec631d",
   "metadata": {},
   "outputs": [
    {
     "data": {
      "application/vnd.microsoft.datawrangler.viewer.v0+json": {
       "columns": [
        {
         "name": "index",
         "rawType": "int64",
         "type": "integer"
        },
        {
         "name": "TotalRevenue",
         "rawType": "float64",
         "type": "float"
        }
       ],
       "conversionMethod": "pd.DataFrame",
       "ref": "1d48f5b1-0aaa-461b-9414-150333e9ed3a",
       "rows": [
        [
         "0",
         "23809.96"
        ]
       ],
       "shape": {
        "columns": 1,
        "rows": 1
       }
      },
      "text/html": [
       "<div>\n",
       "<style scoped>\n",
       "    .dataframe tbody tr th:only-of-type {\n",
       "        vertical-align: middle;\n",
       "    }\n",
       "\n",
       "    .dataframe tbody tr th {\n",
       "        vertical-align: top;\n",
       "    }\n",
       "\n",
       "    .dataframe thead th {\n",
       "        text-align: right;\n",
       "    }\n",
       "</style>\n",
       "<table border=\"1\" class=\"dataframe\">\n",
       "  <thead>\n",
       "    <tr style=\"text-align: right;\">\n",
       "      <th></th>\n",
       "      <th>TotalRevenue</th>\n",
       "    </tr>\n",
       "  </thead>\n",
       "  <tbody>\n",
       "    <tr>\n",
       "      <th>0</th>\n",
       "      <td>23809.96</td>\n",
       "    </tr>\n",
       "  </tbody>\n",
       "</table>\n",
       "</div>"
      ],
      "text/plain": [
       "   TotalRevenue\n",
       "0      23809.96"
      ]
     },
     "execution_count": 16,
     "metadata": {},
     "output_type": "execute_result"
    }
   ],
   "source": [
    "query = \"\"\"\n",
    "SELECT ROUND(SUM(Cost), 2) as TotalRevenue\n",
    "FROM Treatment;\"\"\"\n",
    "status_data = pd.read_sql_query(query, conn)\n",
    "status_data\n"
   ]
  },
  {
   "cell_type": "markdown",
   "id": "c59db661",
   "metadata": {},
   "source": [
    "***7. Medicine Stock Levels***"
   ]
  },
  {
   "cell_type": "code",
   "execution_count": 17,
   "id": "f32fff25",
   "metadata": {},
   "outputs": [
    {
     "data": {
      "application/vnd.microsoft.datawrangler.viewer.v0+json": {
       "columns": [
        {
         "name": "index",
         "rawType": "int64",
         "type": "integer"
        },
        {
         "name": "Name",
         "rawType": "object",
         "type": "string"
        },
        {
         "name": "StockQuantity",
         "rawType": "int64",
         "type": "integer"
        }
       ],
       "conversionMethod": "pd.DataFrame",
       "ref": "7b11e41b-ed6f-4dd2-a833-bca236c8728c",
       "rows": [
        [
         "0",
         "Fluoride Gel 40",
         "11"
        ],
        [
         "1",
         "Lidocaine 50",
         "11"
        ],
        [
         "2",
         "Amoxicillin 29",
         "12"
        ],
        [
         "3",
         "Ibuprofen 44",
         "12"
        ],
        [
         "4",
         "Ibuprofen 4",
         "19"
        ]
       ],
       "shape": {
        "columns": 2,
        "rows": 5
       }
      },
      "text/html": [
       "<div>\n",
       "<style scoped>\n",
       "    .dataframe tbody tr th:only-of-type {\n",
       "        vertical-align: middle;\n",
       "    }\n",
       "\n",
       "    .dataframe tbody tr th {\n",
       "        vertical-align: top;\n",
       "    }\n",
       "\n",
       "    .dataframe thead th {\n",
       "        text-align: right;\n",
       "    }\n",
       "</style>\n",
       "<table border=\"1\" class=\"dataframe\">\n",
       "  <thead>\n",
       "    <tr style=\"text-align: right;\">\n",
       "      <th></th>\n",
       "      <th>Name</th>\n",
       "      <th>StockQuantity</th>\n",
       "    </tr>\n",
       "  </thead>\n",
       "  <tbody>\n",
       "    <tr>\n",
       "      <th>0</th>\n",
       "      <td>Fluoride Gel 40</td>\n",
       "      <td>11</td>\n",
       "    </tr>\n",
       "    <tr>\n",
       "      <th>1</th>\n",
       "      <td>Lidocaine 50</td>\n",
       "      <td>11</td>\n",
       "    </tr>\n",
       "    <tr>\n",
       "      <th>2</th>\n",
       "      <td>Amoxicillin 29</td>\n",
       "      <td>12</td>\n",
       "    </tr>\n",
       "    <tr>\n",
       "      <th>3</th>\n",
       "      <td>Ibuprofen 44</td>\n",
       "      <td>12</td>\n",
       "    </tr>\n",
       "    <tr>\n",
       "      <th>4</th>\n",
       "      <td>Ibuprofen 4</td>\n",
       "      <td>19</td>\n",
       "    </tr>\n",
       "  </tbody>\n",
       "</table>\n",
       "</div>"
      ],
      "text/plain": [
       "              Name  StockQuantity\n",
       "0  Fluoride Gel 40             11\n",
       "1     Lidocaine 50             11\n",
       "2   Amoxicillin 29             12\n",
       "3     Ibuprofen 44             12\n",
       "4      Ibuprofen 4             19"
      ]
     },
     "execution_count": 17,
     "metadata": {},
     "output_type": "execute_result"
    }
   ],
   "source": [
    "query = \"\"\"\n",
    "SELECT Name, StockQuantity\n",
    "FROM Medicine\n",
    "WHERE StockQuantity < 20\n",
    "ORDER BY StockQuantity ASC;\"\"\"\n",
    "medecine_data = pd.read_sql_query(query, conn)\n",
    "medecine_data"
   ]
  },
  {
   "cell_type": "markdown",
   "id": "f2e2a366",
   "metadata": {},
   "source": [
    "***8. Total Prescriptions by Medicine***"
   ]
  },
  {
   "cell_type": "code",
   "execution_count": 18,
   "id": "fcdcb2e2",
   "metadata": {},
   "outputs": [
    {
     "data": {
      "application/vnd.microsoft.datawrangler.viewer.v0+json": {
       "columns": [
        {
         "name": "index",
         "rawType": "int64",
         "type": "integer"
        },
        {
         "name": "Name",
         "rawType": "object",
         "type": "string"
        },
        {
         "name": "PrescriptionCount",
         "rawType": "int64",
         "type": "integer"
        }
       ],
       "conversionMethod": "pd.DataFrame",
       "ref": "e1998124-a14a-4c1d-99ae-e9029d319ea0",
       "rows": [
        [
         "0",
         "Fluoride Gel 2",
         "3"
        ],
        [
         "1",
         "Ibuprofen 9",
         "3"
        ],
        [
         "2",
         "Ibuprofen 19",
         "3"
        ],
        [
         "3",
         "Lidocaine 43",
         "3"
        ],
        [
         "4",
         "Lidocaine 1",
         "2"
        ],
        [
         "5",
         "Ibuprofen 13",
         "2"
        ],
        [
         "6",
         "Amoxicillin 14",
         "2"
        ],
        [
         "7",
         "Paracetamol 17",
         "2"
        ],
        [
         "8",
         "Lidocaine 27",
         "2"
        ],
        [
         "9",
         "Amoxicillin 33",
         "2"
        ],
        [
         "10",
         "Fluoride Gel 34",
         "2"
        ],
        [
         "11",
         "Amoxicillin 35",
         "2"
        ],
        [
         "12",
         "Ibuprofen 48",
         "2"
        ],
        [
         "13",
         "Ibuprofen 3",
         "1"
        ],
        [
         "14",
         "Ibuprofen 4",
         "1"
        ],
        [
         "15",
         "Fluoride Gel 5",
         "1"
        ],
        [
         "16",
         "Amoxicillin 7",
         "1"
        ],
        [
         "17",
         "Lidocaine 8",
         "1"
        ],
        [
         "18",
         "Fluoride Gel 15",
         "1"
        ],
        [
         "19",
         "Amoxicillin 21",
         "1"
        ],
        [
         "20",
         "Amoxicillin 24",
         "1"
        ],
        [
         "21",
         "Amoxicillin 26",
         "1"
        ],
        [
         "22",
         "Amoxicillin 29",
         "1"
        ],
        [
         "23",
         "Ibuprofen 32",
         "1"
        ],
        [
         "24",
         "Lidocaine 36",
         "1"
        ],
        [
         "25",
         "Fluoride Gel 37",
         "1"
        ],
        [
         "26",
         "Lidocaine 38",
         "1"
        ],
        [
         "27",
         "Amoxicillin 39",
         "1"
        ],
        [
         "28",
         "Paracetamol 41",
         "1"
        ],
        [
         "29",
         "Fluoride Gel 42",
         "1"
        ],
        [
         "30",
         "Ibuprofen 44",
         "1"
        ],
        [
         "31",
         "Amoxicillin 45",
         "1"
        ],
        [
         "32",
         "Fluoride Gel 49",
         "1"
        ],
        [
         "33",
         "Amoxicillin 6",
         "0"
        ],
        [
         "34",
         "Paracetamol 10",
         "0"
        ],
        [
         "35",
         "Paracetamol 11",
         "0"
        ],
        [
         "36",
         "Paracetamol 12",
         "0"
        ],
        [
         "37",
         "Fluoride Gel 16",
         "0"
        ],
        [
         "38",
         "Fluoride Gel 18",
         "0"
        ],
        [
         "39",
         "Lidocaine 20",
         "0"
        ],
        [
         "40",
         "Lidocaine 22",
         "0"
        ],
        [
         "41",
         "Ibuprofen 23",
         "0"
        ],
        [
         "42",
         "Ibuprofen 25",
         "0"
        ],
        [
         "43",
         "Lidocaine 28",
         "0"
        ],
        [
         "44",
         "Ibuprofen 30",
         "0"
        ],
        [
         "45",
         "Lidocaine 31",
         "0"
        ],
        [
         "46",
         "Fluoride Gel 40",
         "0"
        ],
        [
         "47",
         "Paracetamol 46",
         "0"
        ],
        [
         "48",
         "Ibuprofen 47",
         "0"
        ],
        [
         "49",
         "Lidocaine 50",
         "0"
        ]
       ],
       "shape": {
        "columns": 2,
        "rows": 50
       }
      },
      "text/html": [
       "<div>\n",
       "<style scoped>\n",
       "    .dataframe tbody tr th:only-of-type {\n",
       "        vertical-align: middle;\n",
       "    }\n",
       "\n",
       "    .dataframe tbody tr th {\n",
       "        vertical-align: top;\n",
       "    }\n",
       "\n",
       "    .dataframe thead th {\n",
       "        text-align: right;\n",
       "    }\n",
       "</style>\n",
       "<table border=\"1\" class=\"dataframe\">\n",
       "  <thead>\n",
       "    <tr style=\"text-align: right;\">\n",
       "      <th></th>\n",
       "      <th>Name</th>\n",
       "      <th>PrescriptionCount</th>\n",
       "    </tr>\n",
       "  </thead>\n",
       "  <tbody>\n",
       "    <tr>\n",
       "      <th>0</th>\n",
       "      <td>Fluoride Gel 2</td>\n",
       "      <td>3</td>\n",
       "    </tr>\n",
       "    <tr>\n",
       "      <th>1</th>\n",
       "      <td>Ibuprofen 9</td>\n",
       "      <td>3</td>\n",
       "    </tr>\n",
       "    <tr>\n",
       "      <th>2</th>\n",
       "      <td>Ibuprofen 19</td>\n",
       "      <td>3</td>\n",
       "    </tr>\n",
       "    <tr>\n",
       "      <th>3</th>\n",
       "      <td>Lidocaine 43</td>\n",
       "      <td>3</td>\n",
       "    </tr>\n",
       "    <tr>\n",
       "      <th>4</th>\n",
       "      <td>Lidocaine 1</td>\n",
       "      <td>2</td>\n",
       "    </tr>\n",
       "    <tr>\n",
       "      <th>5</th>\n",
       "      <td>Ibuprofen 13</td>\n",
       "      <td>2</td>\n",
       "    </tr>\n",
       "    <tr>\n",
       "      <th>6</th>\n",
       "      <td>Amoxicillin 14</td>\n",
       "      <td>2</td>\n",
       "    </tr>\n",
       "    <tr>\n",
       "      <th>7</th>\n",
       "      <td>Paracetamol 17</td>\n",
       "      <td>2</td>\n",
       "    </tr>\n",
       "    <tr>\n",
       "      <th>8</th>\n",
       "      <td>Lidocaine 27</td>\n",
       "      <td>2</td>\n",
       "    </tr>\n",
       "    <tr>\n",
       "      <th>9</th>\n",
       "      <td>Amoxicillin 33</td>\n",
       "      <td>2</td>\n",
       "    </tr>\n",
       "    <tr>\n",
       "      <th>10</th>\n",
       "      <td>Fluoride Gel 34</td>\n",
       "      <td>2</td>\n",
       "    </tr>\n",
       "    <tr>\n",
       "      <th>11</th>\n",
       "      <td>Amoxicillin 35</td>\n",
       "      <td>2</td>\n",
       "    </tr>\n",
       "    <tr>\n",
       "      <th>12</th>\n",
       "      <td>Ibuprofen 48</td>\n",
       "      <td>2</td>\n",
       "    </tr>\n",
       "    <tr>\n",
       "      <th>13</th>\n",
       "      <td>Ibuprofen 3</td>\n",
       "      <td>1</td>\n",
       "    </tr>\n",
       "    <tr>\n",
       "      <th>14</th>\n",
       "      <td>Ibuprofen 4</td>\n",
       "      <td>1</td>\n",
       "    </tr>\n",
       "    <tr>\n",
       "      <th>15</th>\n",
       "      <td>Fluoride Gel 5</td>\n",
       "      <td>1</td>\n",
       "    </tr>\n",
       "    <tr>\n",
       "      <th>16</th>\n",
       "      <td>Amoxicillin 7</td>\n",
       "      <td>1</td>\n",
       "    </tr>\n",
       "    <tr>\n",
       "      <th>17</th>\n",
       "      <td>Lidocaine 8</td>\n",
       "      <td>1</td>\n",
       "    </tr>\n",
       "    <tr>\n",
       "      <th>18</th>\n",
       "      <td>Fluoride Gel 15</td>\n",
       "      <td>1</td>\n",
       "    </tr>\n",
       "    <tr>\n",
       "      <th>19</th>\n",
       "      <td>Amoxicillin 21</td>\n",
       "      <td>1</td>\n",
       "    </tr>\n",
       "    <tr>\n",
       "      <th>20</th>\n",
       "      <td>Amoxicillin 24</td>\n",
       "      <td>1</td>\n",
       "    </tr>\n",
       "    <tr>\n",
       "      <th>21</th>\n",
       "      <td>Amoxicillin 26</td>\n",
       "      <td>1</td>\n",
       "    </tr>\n",
       "    <tr>\n",
       "      <th>22</th>\n",
       "      <td>Amoxicillin 29</td>\n",
       "      <td>1</td>\n",
       "    </tr>\n",
       "    <tr>\n",
       "      <th>23</th>\n",
       "      <td>Ibuprofen 32</td>\n",
       "      <td>1</td>\n",
       "    </tr>\n",
       "    <tr>\n",
       "      <th>24</th>\n",
       "      <td>Lidocaine 36</td>\n",
       "      <td>1</td>\n",
       "    </tr>\n",
       "    <tr>\n",
       "      <th>25</th>\n",
       "      <td>Fluoride Gel 37</td>\n",
       "      <td>1</td>\n",
       "    </tr>\n",
       "    <tr>\n",
       "      <th>26</th>\n",
       "      <td>Lidocaine 38</td>\n",
       "      <td>1</td>\n",
       "    </tr>\n",
       "    <tr>\n",
       "      <th>27</th>\n",
       "      <td>Amoxicillin 39</td>\n",
       "      <td>1</td>\n",
       "    </tr>\n",
       "    <tr>\n",
       "      <th>28</th>\n",
       "      <td>Paracetamol 41</td>\n",
       "      <td>1</td>\n",
       "    </tr>\n",
       "    <tr>\n",
       "      <th>29</th>\n",
       "      <td>Fluoride Gel 42</td>\n",
       "      <td>1</td>\n",
       "    </tr>\n",
       "    <tr>\n",
       "      <th>30</th>\n",
       "      <td>Ibuprofen 44</td>\n",
       "      <td>1</td>\n",
       "    </tr>\n",
       "    <tr>\n",
       "      <th>31</th>\n",
       "      <td>Amoxicillin 45</td>\n",
       "      <td>1</td>\n",
       "    </tr>\n",
       "    <tr>\n",
       "      <th>32</th>\n",
       "      <td>Fluoride Gel 49</td>\n",
       "      <td>1</td>\n",
       "    </tr>\n",
       "    <tr>\n",
       "      <th>33</th>\n",
       "      <td>Amoxicillin 6</td>\n",
       "      <td>0</td>\n",
       "    </tr>\n",
       "    <tr>\n",
       "      <th>34</th>\n",
       "      <td>Paracetamol 10</td>\n",
       "      <td>0</td>\n",
       "    </tr>\n",
       "    <tr>\n",
       "      <th>35</th>\n",
       "      <td>Paracetamol 11</td>\n",
       "      <td>0</td>\n",
       "    </tr>\n",
       "    <tr>\n",
       "      <th>36</th>\n",
       "      <td>Paracetamol 12</td>\n",
       "      <td>0</td>\n",
       "    </tr>\n",
       "    <tr>\n",
       "      <th>37</th>\n",
       "      <td>Fluoride Gel 16</td>\n",
       "      <td>0</td>\n",
       "    </tr>\n",
       "    <tr>\n",
       "      <th>38</th>\n",
       "      <td>Fluoride Gel 18</td>\n",
       "      <td>0</td>\n",
       "    </tr>\n",
       "    <tr>\n",
       "      <th>39</th>\n",
       "      <td>Lidocaine 20</td>\n",
       "      <td>0</td>\n",
       "    </tr>\n",
       "    <tr>\n",
       "      <th>40</th>\n",
       "      <td>Lidocaine 22</td>\n",
       "      <td>0</td>\n",
       "    </tr>\n",
       "    <tr>\n",
       "      <th>41</th>\n",
       "      <td>Ibuprofen 23</td>\n",
       "      <td>0</td>\n",
       "    </tr>\n",
       "    <tr>\n",
       "      <th>42</th>\n",
       "      <td>Ibuprofen 25</td>\n",
       "      <td>0</td>\n",
       "    </tr>\n",
       "    <tr>\n",
       "      <th>43</th>\n",
       "      <td>Lidocaine 28</td>\n",
       "      <td>0</td>\n",
       "    </tr>\n",
       "    <tr>\n",
       "      <th>44</th>\n",
       "      <td>Ibuprofen 30</td>\n",
       "      <td>0</td>\n",
       "    </tr>\n",
       "    <tr>\n",
       "      <th>45</th>\n",
       "      <td>Lidocaine 31</td>\n",
       "      <td>0</td>\n",
       "    </tr>\n",
       "    <tr>\n",
       "      <th>46</th>\n",
       "      <td>Fluoride Gel 40</td>\n",
       "      <td>0</td>\n",
       "    </tr>\n",
       "    <tr>\n",
       "      <th>47</th>\n",
       "      <td>Paracetamol 46</td>\n",
       "      <td>0</td>\n",
       "    </tr>\n",
       "    <tr>\n",
       "      <th>48</th>\n",
       "      <td>Ibuprofen 47</td>\n",
       "      <td>0</td>\n",
       "    </tr>\n",
       "    <tr>\n",
       "      <th>49</th>\n",
       "      <td>Lidocaine 50</td>\n",
       "      <td>0</td>\n",
       "    </tr>\n",
       "  </tbody>\n",
       "</table>\n",
       "</div>"
      ],
      "text/plain": [
       "               Name  PrescriptionCount\n",
       "0    Fluoride Gel 2                  3\n",
       "1       Ibuprofen 9                  3\n",
       "2      Ibuprofen 19                  3\n",
       "3      Lidocaine 43                  3\n",
       "4       Lidocaine 1                  2\n",
       "5      Ibuprofen 13                  2\n",
       "6    Amoxicillin 14                  2\n",
       "7    Paracetamol 17                  2\n",
       "8      Lidocaine 27                  2\n",
       "9    Amoxicillin 33                  2\n",
       "10  Fluoride Gel 34                  2\n",
       "11   Amoxicillin 35                  2\n",
       "12     Ibuprofen 48                  2\n",
       "13      Ibuprofen 3                  1\n",
       "14      Ibuprofen 4                  1\n",
       "15   Fluoride Gel 5                  1\n",
       "16    Amoxicillin 7                  1\n",
       "17      Lidocaine 8                  1\n",
       "18  Fluoride Gel 15                  1\n",
       "19   Amoxicillin 21                  1\n",
       "20   Amoxicillin 24                  1\n",
       "21   Amoxicillin 26                  1\n",
       "22   Amoxicillin 29                  1\n",
       "23     Ibuprofen 32                  1\n",
       "24     Lidocaine 36                  1\n",
       "25  Fluoride Gel 37                  1\n",
       "26     Lidocaine 38                  1\n",
       "27   Amoxicillin 39                  1\n",
       "28   Paracetamol 41                  1\n",
       "29  Fluoride Gel 42                  1\n",
       "30     Ibuprofen 44                  1\n",
       "31   Amoxicillin 45                  1\n",
       "32  Fluoride Gel 49                  1\n",
       "33    Amoxicillin 6                  0\n",
       "34   Paracetamol 10                  0\n",
       "35   Paracetamol 11                  0\n",
       "36   Paracetamol 12                  0\n",
       "37  Fluoride Gel 16                  0\n",
       "38  Fluoride Gel 18                  0\n",
       "39     Lidocaine 20                  0\n",
       "40     Lidocaine 22                  0\n",
       "41     Ibuprofen 23                  0\n",
       "42     Ibuprofen 25                  0\n",
       "43     Lidocaine 28                  0\n",
       "44     Ibuprofen 30                  0\n",
       "45     Lidocaine 31                  0\n",
       "46  Fluoride Gel 40                  0\n",
       "47   Paracetamol 46                  0\n",
       "48     Ibuprofen 47                  0\n",
       "49     Lidocaine 50                  0"
      ]
     },
     "execution_count": 18,
     "metadata": {},
     "output_type": "execute_result"
    }
   ],
   "source": [
    "\n",
    "query = \"\"\"\n",
    "SELECT m.Name, COUNT(p.PrescriptionID) as PrescriptionCount\n",
    "FROM Medicine m\n",
    "LEFT JOIN Prescription p ON m.MedicineID = p.MedicineID\n",
    "GROUP BY m.MedicineID, m.Name\n",
    "ORDER BY PrescriptionCount DESC;\"\"\"\n",
    "medecine_prescription_data = pd.read_sql_query(query, conn)\n",
    "medecine_prescription_data "
   ]
  },
  {
   "cell_type": "markdown",
   "id": "9f45a8d2",
   "metadata": {},
   "source": [
    "***9. Total Payments by Patient***"
   ]
  },
  {
   "cell_type": "code",
   "execution_count": 19,
   "id": "0d25a0f8",
   "metadata": {},
   "outputs": [
    {
     "data": {
      "application/vnd.microsoft.datawrangler.viewer.v0+json": {
       "columns": [
        {
         "name": "index",
         "rawType": "int64",
         "type": "integer"
        },
        {
         "name": "FirstName",
         "rawType": "object",
         "type": "string"
        },
        {
         "name": "LastName",
         "rawType": "object",
         "type": "string"
        },
        {
         "name": "TotalPaid",
         "rawType": "float64",
         "type": "float"
        }
       ],
       "conversionMethod": "pd.DataFrame",
       "ref": "fb411c3c-62fb-4e57-8cd1-63d7371f1a1b",
       "rows": [
        [
         "0",
         "David",
         "Taylor",
         "1641.84"
        ],
        [
         "1",
         "Karen",
         "Brown",
         "1604.39"
        ],
        [
         "2",
         "David",
         "King",
         "1568.85"
        ],
        [
         "3",
         "John",
         "Johnson",
         "1550.05"
        ],
        [
         "4",
         "Chris",
         "Young",
         "1265.17"
        ],
        [
         "5",
         "Karen",
         "Smith",
         "1200.4"
        ],
        [
         "6",
         "Alice",
         "Hall",
         "1168.83"
        ],
        [
         "7",
         "David",
         "Brown",
         "1086.45"
        ],
        [
         "8",
         "Lisa",
         "Green",
         "1062.04"
        ],
        [
         "9",
         "Susan",
         "Carter",
         "1004.28"
        ],
        [
         "10",
         "Alice",
         "Carter",
         "1001.38"
        ],
        [
         "11",
         "Emma",
         "Lewis",
         "1000.29"
        ],
        [
         "12",
         "Steven",
         "Hall",
         "996.25"
        ],
        [
         "13",
         "Susan",
         "Taylor",
         "996.2"
        ],
        [
         "14",
         "Lisa",
         "Clark",
         "990.76"
        ],
        [
         "15",
         "Mark",
         "Wright",
         "965.86"
        ],
        [
         "16",
         "Paul",
         "Taylor",
         "952.15"
        ],
        [
         "17",
         "Alice",
         "Lewis",
         "849.22"
        ],
        [
         "18",
         "Tom",
         "Smith",
         "822.65"
        ],
        [
         "19",
         "Mary",
         "Brown",
         "710.25"
        ],
        [
         "20",
         "Sarah",
         "Lewis",
         "689.08"
        ],
        [
         "21",
         "John",
         "Smith",
         "678.85"
        ],
        [
         "22",
         "Bob",
         "Davis",
         "619.58"
        ],
        [
         "23",
         "Emma",
         "Wilson",
         "579.34"
        ],
        [
         "24",
         "Michael",
         "Young",
         "570.81"
        ],
        [
         "25",
         "Alice",
         "Green",
         "478.24"
        ],
        [
         "26",
         "Tom",
         "Taylor",
         "381.54"
        ],
        [
         "27",
         "Paul",
         "Adams",
         "257.73"
        ],
        [
         "28",
         "Bob",
         "King",
         "246.97"
        ],
        [
         "29",
         "Anna",
         "Lewis",
         "230.86"
        ],
        [
         "30",
         "Karen",
         "Taylor",
         "224.12"
        ],
        [
         "31",
         "Chris",
         "Taylor",
         "210.95"
        ],
        [
         "32",
         "James",
         "Hall",
         "143.93"
        ],
        [
         "33",
         "Emily",
         "Hall",
         "115.75"
        ]
       ],
       "shape": {
        "columns": 3,
        "rows": 34
       }
      },
      "text/html": [
       "<div>\n",
       "<style scoped>\n",
       "    .dataframe tbody tr th:only-of-type {\n",
       "        vertical-align: middle;\n",
       "    }\n",
       "\n",
       "    .dataframe tbody tr th {\n",
       "        vertical-align: top;\n",
       "    }\n",
       "\n",
       "    .dataframe thead th {\n",
       "        text-align: right;\n",
       "    }\n",
       "</style>\n",
       "<table border=\"1\" class=\"dataframe\">\n",
       "  <thead>\n",
       "    <tr style=\"text-align: right;\">\n",
       "      <th></th>\n",
       "      <th>FirstName</th>\n",
       "      <th>LastName</th>\n",
       "      <th>TotalPaid</th>\n",
       "    </tr>\n",
       "  </thead>\n",
       "  <tbody>\n",
       "    <tr>\n",
       "      <th>0</th>\n",
       "      <td>David</td>\n",
       "      <td>Taylor</td>\n",
       "      <td>1641.84</td>\n",
       "    </tr>\n",
       "    <tr>\n",
       "      <th>1</th>\n",
       "      <td>Karen</td>\n",
       "      <td>Brown</td>\n",
       "      <td>1604.39</td>\n",
       "    </tr>\n",
       "    <tr>\n",
       "      <th>2</th>\n",
       "      <td>David</td>\n",
       "      <td>King</td>\n",
       "      <td>1568.85</td>\n",
       "    </tr>\n",
       "    <tr>\n",
       "      <th>3</th>\n",
       "      <td>John</td>\n",
       "      <td>Johnson</td>\n",
       "      <td>1550.05</td>\n",
       "    </tr>\n",
       "    <tr>\n",
       "      <th>4</th>\n",
       "      <td>Chris</td>\n",
       "      <td>Young</td>\n",
       "      <td>1265.17</td>\n",
       "    </tr>\n",
       "    <tr>\n",
       "      <th>5</th>\n",
       "      <td>Karen</td>\n",
       "      <td>Smith</td>\n",
       "      <td>1200.40</td>\n",
       "    </tr>\n",
       "    <tr>\n",
       "      <th>6</th>\n",
       "      <td>Alice</td>\n",
       "      <td>Hall</td>\n",
       "      <td>1168.83</td>\n",
       "    </tr>\n",
       "    <tr>\n",
       "      <th>7</th>\n",
       "      <td>David</td>\n",
       "      <td>Brown</td>\n",
       "      <td>1086.45</td>\n",
       "    </tr>\n",
       "    <tr>\n",
       "      <th>8</th>\n",
       "      <td>Lisa</td>\n",
       "      <td>Green</td>\n",
       "      <td>1062.04</td>\n",
       "    </tr>\n",
       "    <tr>\n",
       "      <th>9</th>\n",
       "      <td>Susan</td>\n",
       "      <td>Carter</td>\n",
       "      <td>1004.28</td>\n",
       "    </tr>\n",
       "    <tr>\n",
       "      <th>10</th>\n",
       "      <td>Alice</td>\n",
       "      <td>Carter</td>\n",
       "      <td>1001.38</td>\n",
       "    </tr>\n",
       "    <tr>\n",
       "      <th>11</th>\n",
       "      <td>Emma</td>\n",
       "      <td>Lewis</td>\n",
       "      <td>1000.29</td>\n",
       "    </tr>\n",
       "    <tr>\n",
       "      <th>12</th>\n",
       "      <td>Steven</td>\n",
       "      <td>Hall</td>\n",
       "      <td>996.25</td>\n",
       "    </tr>\n",
       "    <tr>\n",
       "      <th>13</th>\n",
       "      <td>Susan</td>\n",
       "      <td>Taylor</td>\n",
       "      <td>996.20</td>\n",
       "    </tr>\n",
       "    <tr>\n",
       "      <th>14</th>\n",
       "      <td>Lisa</td>\n",
       "      <td>Clark</td>\n",
       "      <td>990.76</td>\n",
       "    </tr>\n",
       "    <tr>\n",
       "      <th>15</th>\n",
       "      <td>Mark</td>\n",
       "      <td>Wright</td>\n",
       "      <td>965.86</td>\n",
       "    </tr>\n",
       "    <tr>\n",
       "      <th>16</th>\n",
       "      <td>Paul</td>\n",
       "      <td>Taylor</td>\n",
       "      <td>952.15</td>\n",
       "    </tr>\n",
       "    <tr>\n",
       "      <th>17</th>\n",
       "      <td>Alice</td>\n",
       "      <td>Lewis</td>\n",
       "      <td>849.22</td>\n",
       "    </tr>\n",
       "    <tr>\n",
       "      <th>18</th>\n",
       "      <td>Tom</td>\n",
       "      <td>Smith</td>\n",
       "      <td>822.65</td>\n",
       "    </tr>\n",
       "    <tr>\n",
       "      <th>19</th>\n",
       "      <td>Mary</td>\n",
       "      <td>Brown</td>\n",
       "      <td>710.25</td>\n",
       "    </tr>\n",
       "    <tr>\n",
       "      <th>20</th>\n",
       "      <td>Sarah</td>\n",
       "      <td>Lewis</td>\n",
       "      <td>689.08</td>\n",
       "    </tr>\n",
       "    <tr>\n",
       "      <th>21</th>\n",
       "      <td>John</td>\n",
       "      <td>Smith</td>\n",
       "      <td>678.85</td>\n",
       "    </tr>\n",
       "    <tr>\n",
       "      <th>22</th>\n",
       "      <td>Bob</td>\n",
       "      <td>Davis</td>\n",
       "      <td>619.58</td>\n",
       "    </tr>\n",
       "    <tr>\n",
       "      <th>23</th>\n",
       "      <td>Emma</td>\n",
       "      <td>Wilson</td>\n",
       "      <td>579.34</td>\n",
       "    </tr>\n",
       "    <tr>\n",
       "      <th>24</th>\n",
       "      <td>Michael</td>\n",
       "      <td>Young</td>\n",
       "      <td>570.81</td>\n",
       "    </tr>\n",
       "    <tr>\n",
       "      <th>25</th>\n",
       "      <td>Alice</td>\n",
       "      <td>Green</td>\n",
       "      <td>478.24</td>\n",
       "    </tr>\n",
       "    <tr>\n",
       "      <th>26</th>\n",
       "      <td>Tom</td>\n",
       "      <td>Taylor</td>\n",
       "      <td>381.54</td>\n",
       "    </tr>\n",
       "    <tr>\n",
       "      <th>27</th>\n",
       "      <td>Paul</td>\n",
       "      <td>Adams</td>\n",
       "      <td>257.73</td>\n",
       "    </tr>\n",
       "    <tr>\n",
       "      <th>28</th>\n",
       "      <td>Bob</td>\n",
       "      <td>King</td>\n",
       "      <td>246.97</td>\n",
       "    </tr>\n",
       "    <tr>\n",
       "      <th>29</th>\n",
       "      <td>Anna</td>\n",
       "      <td>Lewis</td>\n",
       "      <td>230.86</td>\n",
       "    </tr>\n",
       "    <tr>\n",
       "      <th>30</th>\n",
       "      <td>Karen</td>\n",
       "      <td>Taylor</td>\n",
       "      <td>224.12</td>\n",
       "    </tr>\n",
       "    <tr>\n",
       "      <th>31</th>\n",
       "      <td>Chris</td>\n",
       "      <td>Taylor</td>\n",
       "      <td>210.95</td>\n",
       "    </tr>\n",
       "    <tr>\n",
       "      <th>32</th>\n",
       "      <td>James</td>\n",
       "      <td>Hall</td>\n",
       "      <td>143.93</td>\n",
       "    </tr>\n",
       "    <tr>\n",
       "      <th>33</th>\n",
       "      <td>Emily</td>\n",
       "      <td>Hall</td>\n",
       "      <td>115.75</td>\n",
       "    </tr>\n",
       "  </tbody>\n",
       "</table>\n",
       "</div>"
      ],
      "text/plain": [
       "   FirstName LastName  TotalPaid\n",
       "0      David   Taylor    1641.84\n",
       "1      Karen    Brown    1604.39\n",
       "2      David     King    1568.85\n",
       "3       John  Johnson    1550.05\n",
       "4      Chris    Young    1265.17\n",
       "5      Karen    Smith    1200.40\n",
       "6      Alice     Hall    1168.83\n",
       "7      David    Brown    1086.45\n",
       "8       Lisa    Green    1062.04\n",
       "9      Susan   Carter    1004.28\n",
       "10     Alice   Carter    1001.38\n",
       "11      Emma    Lewis    1000.29\n",
       "12    Steven     Hall     996.25\n",
       "13     Susan   Taylor     996.20\n",
       "14      Lisa    Clark     990.76\n",
       "15      Mark   Wright     965.86\n",
       "16      Paul   Taylor     952.15\n",
       "17     Alice    Lewis     849.22\n",
       "18       Tom    Smith     822.65\n",
       "19      Mary    Brown     710.25\n",
       "20     Sarah    Lewis     689.08\n",
       "21      John    Smith     678.85\n",
       "22       Bob    Davis     619.58\n",
       "23      Emma   Wilson     579.34\n",
       "24   Michael    Young     570.81\n",
       "25     Alice    Green     478.24\n",
       "26       Tom   Taylor     381.54\n",
       "27      Paul    Adams     257.73\n",
       "28       Bob     King     246.97\n",
       "29      Anna    Lewis     230.86\n",
       "30     Karen   Taylor     224.12\n",
       "31     Chris   Taylor     210.95\n",
       "32     James     Hall     143.93\n",
       "33     Emily     Hall     115.75"
      ]
     },
     "execution_count": 19,
     "metadata": {},
     "output_type": "execute_result"
    }
   ],
   "source": [
    "query = \"\"\"\n",
    "SELECT p.FirstName, p.LastName, ROUND(SUM(py.Amount), 2) as TotalPaid\n",
    "FROM Patient p\n",
    "JOIN Payment py ON p.PatientID = py.PatientID\n",
    "GROUP BY p.PatientID, p.FirstName, p.LastName\n",
    "ORDER BY TotalPaid DESC;\"\"\"\n",
    "medecine_patient_data = pd.read_sql_query(query, conn)\n",
    "medecine_patient_data"
   ]
  },
  {
   "cell_type": "markdown",
   "id": "2d8d227b",
   "metadata": {},
   "source": [
    "***10. Average Appointment Duration by Treatment Type***"
   ]
  },
  {
   "cell_type": "code",
   "execution_count": 20,
   "id": "71272622",
   "metadata": {},
   "outputs": [
    {
     "data": {
      "application/vnd.microsoft.datawrangler.viewer.v0+json": {
       "columns": [
        {
         "name": "index",
         "rawType": "int64",
         "type": "integer"
        },
        {
         "name": "TreatmentType",
         "rawType": "object",
         "type": "string"
        },
        {
         "name": "AvgTreatmentCost",
         "rawType": "float64",
         "type": "float"
        }
       ],
       "conversionMethod": "pd.DataFrame",
       "ref": "e70c070f-04cf-4ac5-aba1-98a19058afc3",
       "rows": [
        [
         "0",
         "Medical",
         "445.91"
        ],
        [
         "1",
         "Operational",
         "504.16"
        ]
       ],
       "shape": {
        "columns": 2,
        "rows": 2
       }
      },
      "text/html": [
       "<div>\n",
       "<style scoped>\n",
       "    .dataframe tbody tr th:only-of-type {\n",
       "        vertical-align: middle;\n",
       "    }\n",
       "\n",
       "    .dataframe tbody tr th {\n",
       "        vertical-align: top;\n",
       "    }\n",
       "\n",
       "    .dataframe thead th {\n",
       "        text-align: right;\n",
       "    }\n",
       "</style>\n",
       "<table border=\"1\" class=\"dataframe\">\n",
       "  <thead>\n",
       "    <tr style=\"text-align: right;\">\n",
       "      <th></th>\n",
       "      <th>TreatmentType</th>\n",
       "      <th>AvgTreatmentCost</th>\n",
       "    </tr>\n",
       "  </thead>\n",
       "  <tbody>\n",
       "    <tr>\n",
       "      <th>0</th>\n",
       "      <td>Medical</td>\n",
       "      <td>445.91</td>\n",
       "    </tr>\n",
       "    <tr>\n",
       "      <th>1</th>\n",
       "      <td>Operational</td>\n",
       "      <td>504.16</td>\n",
       "    </tr>\n",
       "  </tbody>\n",
       "</table>\n",
       "</div>"
      ],
      "text/plain": [
       "  TreatmentType  AvgTreatmentCost\n",
       "0       Medical            445.91\n",
       "1   Operational            504.16"
      ]
     },
     "execution_count": 20,
     "metadata": {},
     "output_type": "execute_result"
    }
   ],
   "source": [
    "query = \"\"\"\n",
    "SELECT t.TreatmentType, ROUND(AVG(t.Cost), 2) as AvgTreatmentCost\n",
    "FROM Treatment t\n",
    "JOIN Appointment a ON t.AppointmentID = a.AppointmentID\n",
    "GROUP BY t.TreatmentType;\"\"\" \n",
    "treatment_appoint_data = pd.read_sql_query(query, conn)\n",
    "treatment_appoint_data "
   ]
  },
  {
   "cell_type": "markdown",
   "id": "3d47c4f8",
   "metadata": {},
   "source": [
    "***11. Prescriptions per Treatment Type***"
   ]
  },
  {
   "cell_type": "code",
   "execution_count": 21,
   "id": "597bf229",
   "metadata": {},
   "outputs": [
    {
     "data": {
      "application/vnd.microsoft.datawrangler.viewer.v0+json": {
       "columns": [
        {
         "name": "index",
         "rawType": "int64",
         "type": "integer"
        },
        {
         "name": "TreatmentType",
         "rawType": "object",
         "type": "string"
        },
        {
         "name": "PrescriptionCount",
         "rawType": "int64",
         "type": "integer"
        }
       ],
       "conversionMethod": "pd.DataFrame",
       "ref": "3f1da461-0357-47bf-a410-a9b20316408d",
       "rows": [
        [
         "0",
         "Medical",
         "27"
        ],
        [
         "1",
         "Operational",
         "23"
        ]
       ],
       "shape": {
        "columns": 2,
        "rows": 2
       }
      },
      "text/html": [
       "<div>\n",
       "<style scoped>\n",
       "    .dataframe tbody tr th:only-of-type {\n",
       "        vertical-align: middle;\n",
       "    }\n",
       "\n",
       "    .dataframe tbody tr th {\n",
       "        vertical-align: top;\n",
       "    }\n",
       "\n",
       "    .dataframe thead th {\n",
       "        text-align: right;\n",
       "    }\n",
       "</style>\n",
       "<table border=\"1\" class=\"dataframe\">\n",
       "  <thead>\n",
       "    <tr style=\"text-align: right;\">\n",
       "      <th></th>\n",
       "      <th>TreatmentType</th>\n",
       "      <th>PrescriptionCount</th>\n",
       "    </tr>\n",
       "  </thead>\n",
       "  <tbody>\n",
       "    <tr>\n",
       "      <th>0</th>\n",
       "      <td>Medical</td>\n",
       "      <td>27</td>\n",
       "    </tr>\n",
       "    <tr>\n",
       "      <th>1</th>\n",
       "      <td>Operational</td>\n",
       "      <td>23</td>\n",
       "    </tr>\n",
       "  </tbody>\n",
       "</table>\n",
       "</div>"
      ],
      "text/plain": [
       "  TreatmentType  PrescriptionCount\n",
       "0       Medical                 27\n",
       "1   Operational                 23"
      ]
     },
     "execution_count": 21,
     "metadata": {},
     "output_type": "execute_result"
    }
   ],
   "source": [
    "query = \"\"\"\n",
    "SELECT t.TreatmentType, COUNT(p.PrescriptionID) as PrescriptionCount\n",
    "FROM Treatment t\n",
    "LEFT JOIN Prescription p ON t.TreatmentID = p.TreatmentID\n",
    "GROUP BY t.TreatmentType;\"\"\" \n",
    "treatment_presc_data = pd.read_sql_query(query, conn)\n",
    "treatment_presc_data"
   ]
  },
  {
   "cell_type": "markdown",
   "id": "3f60db98",
   "metadata": {},
   "source": [
    "***12. Number of Dentists***"
   ]
  },
  {
   "cell_type": "code",
   "execution_count": 22,
   "id": "4cb1b21c",
   "metadata": {},
   "outputs": [
    {
     "data": {
      "application/vnd.microsoft.datawrangler.viewer.v0+json": {
       "columns": [
        {
         "name": "index",
         "rawType": "int64",
         "type": "integer"
        },
        {
         "name": "TotalDentists",
         "rawType": "int64",
         "type": "integer"
        }
       ],
       "conversionMethod": "pd.DataFrame",
       "ref": "5b08c25e-247f-4443-a9f1-f1664c5d346c",
       "rows": [
        [
         "0",
         "30"
        ]
       ],
       "shape": {
        "columns": 1,
        "rows": 1
       }
      },
      "text/html": [
       "<div>\n",
       "<style scoped>\n",
       "    .dataframe tbody tr th:only-of-type {\n",
       "        vertical-align: middle;\n",
       "    }\n",
       "\n",
       "    .dataframe tbody tr th {\n",
       "        vertical-align: top;\n",
       "    }\n",
       "\n",
       "    .dataframe thead th {\n",
       "        text-align: right;\n",
       "    }\n",
       "</style>\n",
       "<table border=\"1\" class=\"dataframe\">\n",
       "  <thead>\n",
       "    <tr style=\"text-align: right;\">\n",
       "      <th></th>\n",
       "      <th>TotalDentists</th>\n",
       "    </tr>\n",
       "  </thead>\n",
       "  <tbody>\n",
       "    <tr>\n",
       "      <th>0</th>\n",
       "      <td>30</td>\n",
       "    </tr>\n",
       "  </tbody>\n",
       "</table>\n",
       "</div>"
      ],
      "text/plain": [
       "   TotalDentists\n",
       "0             30"
      ]
     },
     "execution_count": 22,
     "metadata": {},
     "output_type": "execute_result"
    }
   ],
   "source": [
    "query = \"\"\"\n",
    "SELECT COUNT(*) as TotalDentists\n",
    "FROM Dentist;\"\"\" # SQL query to count the number of staff members by role\n",
    "denstist = pd.read_sql_query(query, conn)\n",
    "denstist"
   ]
  },
  {
   "cell_type": "markdown",
   "id": "4f71322b",
   "metadata": {},
   "source": [
    "***13. Total Number of Patients***"
   ]
  },
  {
   "cell_type": "code",
   "execution_count": 23,
   "id": "811efc69",
   "metadata": {},
   "outputs": [
    {
     "data": {
      "application/vnd.microsoft.datawrangler.viewer.v0+json": {
       "columns": [
        {
         "name": "index",
         "rawType": "int64",
         "type": "integer"
        },
        {
         "name": "TotalPatients",
         "rawType": "int64",
         "type": "integer"
        }
       ],
       "conversionMethod": "pd.DataFrame",
       "ref": "d4a5d2ee-ddbd-4ef9-aa16-a46f193dad70",
       "rows": [
        [
         "0",
         "50"
        ]
       ],
       "shape": {
        "columns": 1,
        "rows": 1
       }
      },
      "text/html": [
       "<div>\n",
       "<style scoped>\n",
       "    .dataframe tbody tr th:only-of-type {\n",
       "        vertical-align: middle;\n",
       "    }\n",
       "\n",
       "    .dataframe tbody tr th {\n",
       "        vertical-align: top;\n",
       "    }\n",
       "\n",
       "    .dataframe thead th {\n",
       "        text-align: right;\n",
       "    }\n",
       "</style>\n",
       "<table border=\"1\" class=\"dataframe\">\n",
       "  <thead>\n",
       "    <tr style=\"text-align: right;\">\n",
       "      <th></th>\n",
       "      <th>TotalPatients</th>\n",
       "    </tr>\n",
       "  </thead>\n",
       "  <tbody>\n",
       "    <tr>\n",
       "      <th>0</th>\n",
       "      <td>50</td>\n",
       "    </tr>\n",
       "  </tbody>\n",
       "</table>\n",
       "</div>"
      ],
      "text/plain": [
       "   TotalPatients\n",
       "0             50"
      ]
     },
     "execution_count": 23,
     "metadata": {},
     "output_type": "execute_result"
    }
   ],
   "source": [
    "query = \"\"\"\n",
    "SELECT COUNT(*) as TotalPatients\n",
    "FROM Patient;\"\"\" # SQL query to count the number of staff members by role\n",
    "patients = pd.read_sql_query(query, conn)\n",
    "patients"
   ]
  },
  {
   "cell_type": "markdown",
   "id": "a7da81ee",
   "metadata": {},
   "source": [
    "***14. Number of Male Patients***"
   ]
  },
  {
   "cell_type": "code",
   "execution_count": 24,
   "id": "3cdba7f7",
   "metadata": {},
   "outputs": [
    {
     "data": {
      "application/vnd.microsoft.datawrangler.viewer.v0+json": {
       "columns": [
        {
         "name": "index",
         "rawType": "int64",
         "type": "integer"
        },
        {
         "name": "Gender",
         "rawType": "object",
         "type": "string"
        },
        {
         "name": "MalePatients",
         "rawType": "int64",
         "type": "integer"
        }
       ],
       "conversionMethod": "pd.DataFrame",
       "ref": "7a45375e-e1ab-4433-b919-2cc3b7a35d37",
       "rows": [
        [
         "0",
         "M",
         "16"
        ]
       ],
       "shape": {
        "columns": 2,
        "rows": 1
       }
      },
      "text/html": [
       "<div>\n",
       "<style scoped>\n",
       "    .dataframe tbody tr th:only-of-type {\n",
       "        vertical-align: middle;\n",
       "    }\n",
       "\n",
       "    .dataframe tbody tr th {\n",
       "        vertical-align: top;\n",
       "    }\n",
       "\n",
       "    .dataframe thead th {\n",
       "        text-align: right;\n",
       "    }\n",
       "</style>\n",
       "<table border=\"1\" class=\"dataframe\">\n",
       "  <thead>\n",
       "    <tr style=\"text-align: right;\">\n",
       "      <th></th>\n",
       "      <th>Gender</th>\n",
       "      <th>MalePatients</th>\n",
       "    </tr>\n",
       "  </thead>\n",
       "  <tbody>\n",
       "    <tr>\n",
       "      <th>0</th>\n",
       "      <td>M</td>\n",
       "      <td>16</td>\n",
       "    </tr>\n",
       "  </tbody>\n",
       "</table>\n",
       "</div>"
      ],
      "text/plain": [
       "  Gender  MalePatients\n",
       "0      M            16"
      ]
     },
     "execution_count": 24,
     "metadata": {},
     "output_type": "execute_result"
    }
   ],
   "source": [
    "\n",
    "query = \"\"\"\n",
    "SELECT gender,COUNT(*) as MalePatients\n",
    "FROM Patient\n",
    "WHERE Gender = 'M';\"\"\" # SQL query to count the number of staff members by role\n",
    "patients_male = pd.read_sql_query(query, conn)\n",
    "patients_male"
   ]
  },
  {
   "cell_type": "markdown",
   "id": "f13460da",
   "metadata": {},
   "source": [
    "***15. Number of Scheduled Appointments***"
   ]
  },
  {
   "cell_type": "code",
   "execution_count": 25,
   "id": "245304db",
   "metadata": {},
   "outputs": [
    {
     "data": {
      "application/vnd.microsoft.datawrangler.viewer.v0+json": {
       "columns": [
        {
         "name": "index",
         "rawType": "int64",
         "type": "integer"
        },
        {
         "name": "Status",
         "rawType": "object",
         "type": "string"
        },
        {
         "name": "ScheduledAppointments",
         "rawType": "int64",
         "type": "integer"
        }
       ],
       "conversionMethod": "pd.DataFrame",
       "ref": "769fa04c-febf-4cef-b8cb-877f3b22a830",
       "rows": [
        [
         "0",
         "Scheduled",
         "18"
        ]
       ],
       "shape": {
        "columns": 2,
        "rows": 1
       }
      },
      "text/html": [
       "<div>\n",
       "<style scoped>\n",
       "    .dataframe tbody tr th:only-of-type {\n",
       "        vertical-align: middle;\n",
       "    }\n",
       "\n",
       "    .dataframe tbody tr th {\n",
       "        vertical-align: top;\n",
       "    }\n",
       "\n",
       "    .dataframe thead th {\n",
       "        text-align: right;\n",
       "    }\n",
       "</style>\n",
       "<table border=\"1\" class=\"dataframe\">\n",
       "  <thead>\n",
       "    <tr style=\"text-align: right;\">\n",
       "      <th></th>\n",
       "      <th>Status</th>\n",
       "      <th>ScheduledAppointments</th>\n",
       "    </tr>\n",
       "  </thead>\n",
       "  <tbody>\n",
       "    <tr>\n",
       "      <th>0</th>\n",
       "      <td>Scheduled</td>\n",
       "      <td>18</td>\n",
       "    </tr>\n",
       "  </tbody>\n",
       "</table>\n",
       "</div>"
      ],
      "text/plain": [
       "      Status  ScheduledAppointments\n",
       "0  Scheduled                     18"
      ]
     },
     "execution_count": 25,
     "metadata": {},
     "output_type": "execute_result"
    }
   ],
   "source": [
    "\n",
    "query = \"\"\"\n",
    "SELECT status,COUNT(*) as ScheduledAppointments\n",
    "FROM Appointment\n",
    "WHERE Status = 'Scheduled';\"\"\" # SQL query to count the number of staff members by role\n",
    "appointment= pd.read_sql_query(query, conn)\n",
    "appointment"
   ]
  },
  {
   "cell_type": "markdown",
   "id": "b5ef2cec",
   "metadata": {},
   "source": [
    "***16. Total Cost of All Treatments***"
   ]
  },
  {
   "cell_type": "code",
   "execution_count": 26,
   "id": "03498f24",
   "metadata": {},
   "outputs": [
    {
     "data": {
      "application/vnd.microsoft.datawrangler.viewer.v0+json": {
       "columns": [
        {
         "name": "index",
         "rawType": "int64",
         "type": "integer"
        },
        {
         "name": "TotalTreatmentCost",
         "rawType": "float64",
         "type": "float"
        }
       ],
       "conversionMethod": "pd.DataFrame",
       "ref": "a7834de8-f261-4142-bac5-e7d0be6ade4b",
       "rows": [
        [
         "0",
         "23809.96"
        ]
       ],
       "shape": {
        "columns": 1,
        "rows": 1
       }
      },
      "text/html": [
       "<div>\n",
       "<style scoped>\n",
       "    .dataframe tbody tr th:only-of-type {\n",
       "        vertical-align: middle;\n",
       "    }\n",
       "\n",
       "    .dataframe tbody tr th {\n",
       "        vertical-align: top;\n",
       "    }\n",
       "\n",
       "    .dataframe thead th {\n",
       "        text-align: right;\n",
       "    }\n",
       "</style>\n",
       "<table border=\"1\" class=\"dataframe\">\n",
       "  <thead>\n",
       "    <tr style=\"text-align: right;\">\n",
       "      <th></th>\n",
       "      <th>TotalTreatmentCost</th>\n",
       "    </tr>\n",
       "  </thead>\n",
       "  <tbody>\n",
       "    <tr>\n",
       "      <th>0</th>\n",
       "      <td>23809.96</td>\n",
       "    </tr>\n",
       "  </tbody>\n",
       "</table>\n",
       "</div>"
      ],
      "text/plain": [
       "   TotalTreatmentCost\n",
       "0            23809.96"
      ]
     },
     "execution_count": 26,
     "metadata": {},
     "output_type": "execute_result"
    }
   ],
   "source": [
    "\n",
    "query = \"\"\"\n",
    "SELECT ROUND(SUM(Cost), 2) as TotalTreatmentCost\n",
    "FROM Treatment;\n",
    "\"\"\" # SQL query to count the number of staff members by role\n",
    "cost= pd.read_sql_query(query, conn)\n",
    "cost"
   ]
  },
  {
   "cell_type": "markdown",
   "id": "8b297d60",
   "metadata": {},
   "source": [
    "***17. update a row***"
   ]
  },
  {
   "cell_type": "code",
   "execution_count": 41,
   "id": "65a6cbab",
   "metadata": {},
   "outputs": [
    {
     "data": {
      "application/vnd.microsoft.datawrangler.viewer.v0+json": {
       "columns": [
        {
         "name": "index",
         "rawType": "int64",
         "type": "integer"
        },
        {
         "name": "PatientID",
         "rawType": "object",
         "type": "string"
        },
        {
         "name": "FirstName",
         "rawType": "object",
         "type": "string"
        },
        {
         "name": "LastName",
         "rawType": "object",
         "type": "string"
        },
        {
         "name": "DOB",
         "rawType": "object",
         "type": "string"
        },
        {
         "name": "Gender",
         "rawType": "object",
         "type": "string"
        },
        {
         "name": "Phone",
         "rawType": "object",
         "type": "string"
        },
        {
         "name": "Email",
         "rawType": "object",
         "type": "string"
        },
        {
         "name": "Address",
         "rawType": "object",
         "type": "string"
        }
       ],
       "conversionMethod": "pd.DataFrame",
       "ref": "171b60f4-ef4a-40f3-8860-dc6d09b97f08",
       "rows": [],
       "shape": {
        "columns": 8,
        "rows": 0
       }
      },
      "text/html": [
       "<div>\n",
       "<style scoped>\n",
       "    .dataframe tbody tr th:only-of-type {\n",
       "        vertical-align: middle;\n",
       "    }\n",
       "\n",
       "    .dataframe tbody tr th {\n",
       "        vertical-align: top;\n",
       "    }\n",
       "\n",
       "    .dataframe thead th {\n",
       "        text-align: right;\n",
       "    }\n",
       "</style>\n",
       "<table border=\"1\" class=\"dataframe\">\n",
       "  <thead>\n",
       "    <tr style=\"text-align: right;\">\n",
       "      <th></th>\n",
       "      <th>PatientID</th>\n",
       "      <th>FirstName</th>\n",
       "      <th>LastName</th>\n",
       "      <th>DOB</th>\n",
       "      <th>Gender</th>\n",
       "      <th>Phone</th>\n",
       "      <th>Email</th>\n",
       "      <th>Address</th>\n",
       "    </tr>\n",
       "  </thead>\n",
       "  <tbody>\n",
       "  </tbody>\n",
       "</table>\n",
       "</div>"
      ],
      "text/plain": [
       "Empty DataFrame\n",
       "Columns: [PatientID, FirstName, LastName, DOB, Gender, Phone, Email, Address]\n",
       "Index: []"
      ]
     },
     "execution_count": 41,
     "metadata": {},
     "output_type": "execute_result"
    }
   ],
   "source": [
    "conn.execute(\"UPDATE Patient SET FirstName = 'Timothee',LastName = 'Nkwar'WHERE PatientID = 1;\")\n",
    "conn.commit()\n",
    "update_table =pd.read_sql_query(\"SELECT * FROM Patient WHERE PatientID = 1;\", conn)\n",
    "update_table"
   ]
  },
  {
   "cell_type": "markdown",
   "id": "0b189aa2",
   "metadata": {},
   "source": [
    "## 📁 Source Code\n",
    "\n",
    "You can find the full project code here:  \n",
    "👉 [View on GitHub](https://github.com/TimotheeNkwar/Database-Systems/blob/main/DataBase_Project/Dentist_Clinic_DB_Project.ipynb)\n"
   ]
  }
 ],
 "metadata": {
  "kernelspec": {
   "display_name": "Timo",
   "language": "python",
   "name": "python3"
  },
  "language_info": {
   "codemirror_mode": {
    "name": "ipython",
    "version": 3
   },
   "file_extension": ".py",
   "mimetype": "text/x-python",
   "name": "python",
   "nbconvert_exporter": "python",
   "pygments_lexer": "ipython3",
   "version": "3.13.2"
  }
 },
 "nbformat": 4,
 "nbformat_minor": 5
}
