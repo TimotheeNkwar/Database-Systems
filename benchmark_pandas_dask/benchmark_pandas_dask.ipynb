{
 "cells": [
  {
   "cell_type": "markdown",
   "id": "2321e700",
   "metadata": {},
   "source": [
    "<h1 align=\"center\">💾benchmark_pandas_dask </h1>"
   ]
  },
  {
   "cell_type": "code",
   "execution_count": null,
   "id": "031db178",
   "metadata": {},
   "outputs": [],
   "source": [
    "import pandas as pd\n",
    "import dask.dataframe as dd\n",
    "\n",
    "# Exemple : créer un DataFrame Pandas\n",
    "df_pandas = pd.DataFrame({\n",
    "    'A': range(10**6),\n",
    "    'B': range(10**6, 2*10**6)\n",
    "})\n",
    "\n",
    "\n",
    "df_dask = dd.from_pandas(df_pandas, npartitions=4)\n"
   ]
  },
  {
   "cell_type": "code",
   "execution_count": 2,
   "id": "60ddb5e4",
   "metadata": {},
   "outputs": [
    {
     "data": {
      "application/vnd.microsoft.datawrangler.viewer.v0+json": {
       "columns": [
        {
         "name": "index",
         "rawType": "int64",
         "type": "integer"
        },
        {
         "name": "A",
         "rawType": "int64",
         "type": "integer"
        },
        {
         "name": "B",
         "rawType": "int64",
         "type": "integer"
        }
       ],
       "ref": "814b02a5-dc12-4610-962e-0b9eaaa1ff0d",
       "rows": [
        [
         "0",
         "0",
         "1000000"
        ],
        [
         "1",
         "1",
         "1000001"
        ],
        [
         "2",
         "2",
         "1000002"
        ],
        [
         "3",
         "3",
         "1000003"
        ],
        [
         "4",
         "4",
         "1000004"
        ],
        [
         "5",
         "5",
         "1000005"
        ],
        [
         "6",
         "6",
         "1000006"
        ],
        [
         "7",
         "7",
         "1000007"
        ],
        [
         "8",
         "8",
         "1000008"
        ],
        [
         "9",
         "9",
         "1000009"
        ],
        [
         "10",
         "10",
         "1000010"
        ],
        [
         "11",
         "11",
         "1000011"
        ],
        [
         "12",
         "12",
         "1000012"
        ],
        [
         "13",
         "13",
         "1000013"
        ],
        [
         "14",
         "14",
         "1000014"
        ],
        [
         "15",
         "15",
         "1000015"
        ],
        [
         "16",
         "16",
         "1000016"
        ],
        [
         "17",
         "17",
         "1000017"
        ],
        [
         "18",
         "18",
         "1000018"
        ],
        [
         "19",
         "19",
         "1000019"
        ],
        [
         "20",
         "20",
         "1000020"
        ],
        [
         "21",
         "21",
         "1000021"
        ],
        [
         "22",
         "22",
         "1000022"
        ],
        [
         "23",
         "23",
         "1000023"
        ],
        [
         "24",
         "24",
         "1000024"
        ],
        [
         "25",
         "25",
         "1000025"
        ],
        [
         "26",
         "26",
         "1000026"
        ],
        [
         "27",
         "27",
         "1000027"
        ],
        [
         "28",
         "28",
         "1000028"
        ],
        [
         "29",
         "29",
         "1000029"
        ],
        [
         "30",
         "30",
         "1000030"
        ],
        [
         "31",
         "31",
         "1000031"
        ],
        [
         "32",
         "32",
         "1000032"
        ],
        [
         "33",
         "33",
         "1000033"
        ],
        [
         "34",
         "34",
         "1000034"
        ],
        [
         "35",
         "35",
         "1000035"
        ],
        [
         "36",
         "36",
         "1000036"
        ],
        [
         "37",
         "37",
         "1000037"
        ],
        [
         "38",
         "38",
         "1000038"
        ],
        [
         "39",
         "39",
         "1000039"
        ],
        [
         "40",
         "40",
         "1000040"
        ],
        [
         "41",
         "41",
         "1000041"
        ],
        [
         "42",
         "42",
         "1000042"
        ],
        [
         "43",
         "43",
         "1000043"
        ],
        [
         "44",
         "44",
         "1000044"
        ],
        [
         "45",
         "45",
         "1000045"
        ],
        [
         "46",
         "46",
         "1000046"
        ],
        [
         "47",
         "47",
         "1000047"
        ],
        [
         "48",
         "48",
         "1000048"
        ],
        [
         "49",
         "49",
         "1000049"
        ]
       ],
       "shape": {
        "columns": 2,
        "rows": 1000000
       }
      },
      "text/html": [
       "<div>\n",
       "<style scoped>\n",
       "    .dataframe tbody tr th:only-of-type {\n",
       "        vertical-align: middle;\n",
       "    }\n",
       "\n",
       "    .dataframe tbody tr th {\n",
       "        vertical-align: top;\n",
       "    }\n",
       "\n",
       "    .dataframe thead th {\n",
       "        text-align: right;\n",
       "    }\n",
       "</style>\n",
       "<table border=\"1\" class=\"dataframe\">\n",
       "  <thead>\n",
       "    <tr style=\"text-align: right;\">\n",
       "      <th></th>\n",
       "      <th>A</th>\n",
       "      <th>B</th>\n",
       "    </tr>\n",
       "  </thead>\n",
       "  <tbody>\n",
       "    <tr>\n",
       "      <th>0</th>\n",
       "      <td>0</td>\n",
       "      <td>1000000</td>\n",
       "    </tr>\n",
       "    <tr>\n",
       "      <th>1</th>\n",
       "      <td>1</td>\n",
       "      <td>1000001</td>\n",
       "    </tr>\n",
       "    <tr>\n",
       "      <th>2</th>\n",
       "      <td>2</td>\n",
       "      <td>1000002</td>\n",
       "    </tr>\n",
       "    <tr>\n",
       "      <th>3</th>\n",
       "      <td>3</td>\n",
       "      <td>1000003</td>\n",
       "    </tr>\n",
       "    <tr>\n",
       "      <th>4</th>\n",
       "      <td>4</td>\n",
       "      <td>1000004</td>\n",
       "    </tr>\n",
       "    <tr>\n",
       "      <th>...</th>\n",
       "      <td>...</td>\n",
       "      <td>...</td>\n",
       "    </tr>\n",
       "    <tr>\n",
       "      <th>999995</th>\n",
       "      <td>999995</td>\n",
       "      <td>1999995</td>\n",
       "    </tr>\n",
       "    <tr>\n",
       "      <th>999996</th>\n",
       "      <td>999996</td>\n",
       "      <td>1999996</td>\n",
       "    </tr>\n",
       "    <tr>\n",
       "      <th>999997</th>\n",
       "      <td>999997</td>\n",
       "      <td>1999997</td>\n",
       "    </tr>\n",
       "    <tr>\n",
       "      <th>999998</th>\n",
       "      <td>999998</td>\n",
       "      <td>1999998</td>\n",
       "    </tr>\n",
       "    <tr>\n",
       "      <th>999999</th>\n",
       "      <td>999999</td>\n",
       "      <td>1999999</td>\n",
       "    </tr>\n",
       "  </tbody>\n",
       "</table>\n",
       "<p>1000000 rows × 2 columns</p>\n",
       "</div>"
      ],
      "text/plain": [
       "             A        B\n",
       "0            0  1000000\n",
       "1            1  1000001\n",
       "2            2  1000002\n",
       "3            3  1000003\n",
       "4            4  1000004\n",
       "...        ...      ...\n",
       "999995  999995  1999995\n",
       "999996  999996  1999996\n",
       "999997  999997  1999997\n",
       "999998  999998  1999998\n",
       "999999  999999  1999999\n",
       "\n",
       "[1000000 rows x 2 columns]"
      ]
     },
     "execution_count": 2,
     "metadata": {},
     "output_type": "execute_result"
    }
   ],
   "source": [
    "df_pandas"
   ]
  },
  {
   "cell_type": "code",
   "execution_count": 3,
   "id": "25174316",
   "metadata": {},
   "outputs": [
    {
     "data": {
      "application/vnd.microsoft.datawrangler.viewer.v0+json": {
       "columns": [
        {
         "name": "index",
         "rawType": "int64",
         "type": "integer"
        },
        {
         "name": "A",
         "rawType": "int64",
         "type": "integer"
        },
        {
         "name": "B",
         "rawType": "int64",
         "type": "integer"
        }
       ],
       "ref": "c1e7fcc2-bf79-48b4-ba71-3f5bd728bb81",
       "rows": [
        [
         "0",
         "0",
         "1000000"
        ],
        [
         "1",
         "1",
         "1000001"
        ],
        [
         "2",
         "2",
         "1000002"
        ],
        [
         "3",
         "3",
         "1000003"
        ],
        [
         "4",
         "4",
         "1000004"
        ],
        [
         "5",
         "5",
         "1000005"
        ],
        [
         "6",
         "6",
         "1000006"
        ],
        [
         "7",
         "7",
         "1000007"
        ],
        [
         "8",
         "8",
         "1000008"
        ],
        [
         "9",
         "9",
         "1000009"
        ],
        [
         "10",
         "10",
         "1000010"
        ],
        [
         "11",
         "11",
         "1000011"
        ],
        [
         "12",
         "12",
         "1000012"
        ],
        [
         "13",
         "13",
         "1000013"
        ],
        [
         "14",
         "14",
         "1000014"
        ],
        [
         "15",
         "15",
         "1000015"
        ],
        [
         "16",
         "16",
         "1000016"
        ],
        [
         "17",
         "17",
         "1000017"
        ],
        [
         "18",
         "18",
         "1000018"
        ],
        [
         "19",
         "19",
         "1000019"
        ],
        [
         "20",
         "20",
         "1000020"
        ],
        [
         "21",
         "21",
         "1000021"
        ],
        [
         "22",
         "22",
         "1000022"
        ],
        [
         "23",
         "23",
         "1000023"
        ],
        [
         "24",
         "24",
         "1000024"
        ],
        [
         "25",
         "25",
         "1000025"
        ],
        [
         "26",
         "26",
         "1000026"
        ],
        [
         "27",
         "27",
         "1000027"
        ],
        [
         "28",
         "28",
         "1000028"
        ],
        [
         "29",
         "29",
         "1000029"
        ],
        [
         "30",
         "30",
         "1000030"
        ],
        [
         "31",
         "31",
         "1000031"
        ],
        [
         "32",
         "32",
         "1000032"
        ],
        [
         "33",
         "33",
         "1000033"
        ],
        [
         "34",
         "34",
         "1000034"
        ],
        [
         "35",
         "35",
         "1000035"
        ],
        [
         "36",
         "36",
         "1000036"
        ],
        [
         "37",
         "37",
         "1000037"
        ],
        [
         "38",
         "38",
         "1000038"
        ],
        [
         "39",
         "39",
         "1000039"
        ],
        [
         "40",
         "40",
         "1000040"
        ],
        [
         "41",
         "41",
         "1000041"
        ],
        [
         "42",
         "42",
         "1000042"
        ],
        [
         "43",
         "43",
         "1000043"
        ],
        [
         "44",
         "44",
         "1000044"
        ],
        [
         "45",
         "45",
         "1000045"
        ],
        [
         "46",
         "46",
         "1000046"
        ],
        [
         "47",
         "47",
         "1000047"
        ],
        [
         "48",
         "48",
         "1000048"
        ],
        [
         "49",
         "49",
         "1000049"
        ]
       ],
       "shape": {
        "columns": 2,
        "rows": 1000000
       }
      },
      "text/html": [
       "<div>\n",
       "<style scoped>\n",
       "    .dataframe tbody tr th:only-of-type {\n",
       "        vertical-align: middle;\n",
       "    }\n",
       "\n",
       "    .dataframe tbody tr th {\n",
       "        vertical-align: top;\n",
       "    }\n",
       "\n",
       "    .dataframe thead th {\n",
       "        text-align: right;\n",
       "    }\n",
       "</style>\n",
       "<table border=\"1\" class=\"dataframe\">\n",
       "  <thead>\n",
       "    <tr style=\"text-align: right;\">\n",
       "      <th></th>\n",
       "      <th>A</th>\n",
       "      <th>B</th>\n",
       "    </tr>\n",
       "  </thead>\n",
       "  <tbody>\n",
       "    <tr>\n",
       "      <th>0</th>\n",
       "      <td>0</td>\n",
       "      <td>1000000</td>\n",
       "    </tr>\n",
       "    <tr>\n",
       "      <th>1</th>\n",
       "      <td>1</td>\n",
       "      <td>1000001</td>\n",
       "    </tr>\n",
       "    <tr>\n",
       "      <th>2</th>\n",
       "      <td>2</td>\n",
       "      <td>1000002</td>\n",
       "    </tr>\n",
       "    <tr>\n",
       "      <th>3</th>\n",
       "      <td>3</td>\n",
       "      <td>1000003</td>\n",
       "    </tr>\n",
       "    <tr>\n",
       "      <th>4</th>\n",
       "      <td>4</td>\n",
       "      <td>1000004</td>\n",
       "    </tr>\n",
       "    <tr>\n",
       "      <th>...</th>\n",
       "      <td>...</td>\n",
       "      <td>...</td>\n",
       "    </tr>\n",
       "    <tr>\n",
       "      <th>999995</th>\n",
       "      <td>999995</td>\n",
       "      <td>1999995</td>\n",
       "    </tr>\n",
       "    <tr>\n",
       "      <th>999996</th>\n",
       "      <td>999996</td>\n",
       "      <td>1999996</td>\n",
       "    </tr>\n",
       "    <tr>\n",
       "      <th>999997</th>\n",
       "      <td>999997</td>\n",
       "      <td>1999997</td>\n",
       "    </tr>\n",
       "    <tr>\n",
       "      <th>999998</th>\n",
       "      <td>999998</td>\n",
       "      <td>1999998</td>\n",
       "    </tr>\n",
       "    <tr>\n",
       "      <th>999999</th>\n",
       "      <td>999999</td>\n",
       "      <td>1999999</td>\n",
       "    </tr>\n",
       "  </tbody>\n",
       "</table>\n",
       "<p>1000000 rows × 2 columns</p>\n",
       "</div>"
      ],
      "text/plain": [
       "             A        B\n",
       "0            0  1000000\n",
       "1            1  1000001\n",
       "2            2  1000002\n",
       "3            3  1000003\n",
       "4            4  1000004\n",
       "...        ...      ...\n",
       "999995  999995  1999995\n",
       "999996  999996  1999996\n",
       "999997  999997  1999997\n",
       "999998  999998  1999998\n",
       "999999  999999  1999999\n",
       "\n",
       "[1000000 rows x 2 columns]"
      ]
     },
     "execution_count": 3,
     "metadata": {},
     "output_type": "execute_result"
    }
   ],
   "source": [
    "df_dask.compute()"
   ]
  },
  {
   "cell_type": "code",
   "execution_count": 4,
   "id": "bbc68cad",
   "metadata": {},
   "outputs": [
    {
     "name": "stdout",
     "output_type": "stream",
     "text": [
      "490 μs ± 91.6 μs per loop (mean ± std. dev. of 7 runs, 1,000 loops each)\n"
     ]
    }
   ],
   "source": [
    "# Pandas - calcul de la somme\n",
    "%timeit df_pandas['A'].sum()"
   ]
  },
  {
   "cell_type": "code",
   "execution_count": null,
   "id": "e802ded3",
   "metadata": {},
   "outputs": [],
   "source": [
    "# Dask - calcul de la somme (attention, Dask est paresseux, il faut appeler .compute())\n",
    "%timeit df_dask['A'].sum().compute()"
   ]
  }
 ],
 "metadata": {
  "kernelspec": {
   "display_name": "Timo",
   "language": "python",
   "name": "python3"
  },
  "language_info": {
   "codemirror_mode": {
    "name": "ipython",
    "version": 3
   },
   "file_extension": ".py",
   "mimetype": "text/x-python",
   "name": "python",
   "nbconvert_exporter": "python",
   "pygments_lexer": "ipython3",
   "version": "3.13.2"
  }
 },
 "nbformat": 4,
 "nbformat_minor": 5
}
